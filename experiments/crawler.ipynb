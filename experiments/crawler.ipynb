{
 "cells": [
  {
   "cell_type": "code",
   "execution_count": null,
   "id": "a6bb37ca",
   "metadata": {
    "ExecuteTime": {
     "end_time": "2025-05-15T03:09:12.662621Z",
     "start_time": "2025-05-15T03:09:10.553699Z"
    }
   },
   "outputs": [],
   "source": [
    "import os\n",
    "from crawl4ai import AsyncWebCrawler, BrowserConfig, CrawlerRunConfig, CacheMode, LLMConfig\n",
    "from crawl4ai.extraction_strategy import LLMExtractionStrategy\n",
    "from crawl4ai.content_filter_strategy import BM25ContentFilter\n",
    "from crawl4ai.markdown_generation_strategy import DefaultMarkdownGenerator\n",
    "from pydantic import BaseModel\n",
    "from typing import List, Optional\n",
    "\n",
    "\n",
    "class CrawlerTaskConfig(BaseModel):\n",
    "    task_name: str\n",
    "    urls: List[str]\n",
    "    output_dir: str\n",
    "\n",
    "\n",
    "class PageData(BaseModel):\n",
    "    title: str\n",
    "    content: str\n",
    "    images: List[str]\n",
    "\n",
    "\n",
    "class PageResult(BaseModel):\n",
    "    url: str\n",
    "    data: PageData\n",
    "\n",
    "async def crawl(task_config: CrawlerTaskConfig,\n",
    "                schema: BaseModel,\n",
    "                browser_cfg: BrowserConfig = None,\n",
    "                logfile: str = None):\n",
    "\n",
    "    instruction = \"\"\"\n",
    "Extract the main article content from this web page.\n",
    "Only include text that is directly related to the main title of the article:\n",
    "    - The main title\n",
    "    - The main content\n",
    "    - The image URLs in the main content.\n",
    "Do not include navigation menus, advertisements, sidebars, related articles, comments, or footer content.\n",
    "Retain the content original language.\n",
    "Return valid JSON.\n",
    "\"\"\".strip()\n",
    "\n",
    "    if task_config.task_name:\n",
    "        instruction = f\"This page is about {task_config.task_name}.\\n\" + instruction\n",
    "        instruction.strip()\n",
    "\n",
    "    # llm_strategy = LLMExtractionStrategy(\n",
    "    #     llm_config=LLMConfig(provider=f\"azure/{os.getenv(\"AOAI_DEPLOYMENT\")}\",\n",
    "    #                          api_token=os.getenv('AZURE_OPENAI_API_KEY'),\n",
    "    #                          base_url=os.getenv(\"AOAI_ENDPOINT\")),\n",
    "    #     extraction_type=\"schema\",\n",
    "    #     apply_chunking=False,\n",
    "    #     instruction=instruction,\n",
    "    #     schema=schema,\n",
    "    #     input_format=\"html\",\n",
    "    #     extra_args={\"temperature\": 0.0, \"max_tokens\": 1500},\n",
    "    #     verbose=True,\n",
    "    # )\n",
    "\n",
    "    bm25_filter = BM25ContentFilter(\n",
    "        user_query=task_config.task_name,\n",
    "        # Adjust for stricter or looser results\n",
    "        bm25_threshold=1.2,\n",
    "    )\n",
    "\n",
    "    md_generator = DefaultMarkdownGenerator(\n",
    "        content_filter=bm25_filter,\n",
    "        options={\n",
    "            \"ignore_images\": False\n",
    "        })\n",
    "\n",
    "    config = CrawlerRunConfig(\n",
    "        cache_mode=CacheMode.BYPASS,\n",
    "        wait_for=\"body\",\n",
    "        markdown_generator=md_generator,\n",
    "        css_selector=\"body\",\n",
    "        # target_elements=[\"body\", \"img\"],\n",
    "        excluded_selector=\"script, style\",\n",
    "        # extraction_strategy=llm_strategy,\n",
    "        # only_text=True,\n",
    "        exclude_external_images=True,\n",
    "        image_score_threshold=3,\n",
    "        # exclude_all_images=True,\n",
    "    )\n",
    "\n",
    "    if not browser_cfg:\n",
    "        browser_cfg = BrowserConfig(headless=True)\n",
    "\n",
    "    from datetime import datetime\n",
    "    now = datetime.now().strftime(\"%Y%m%d\")\n",
    "    file_name = f\"{task_config.task_name.replace(\" \", \"-\")}__{now}.md\"\n",
    "    output_file_path = os.path.join(task_config.output_dir, file_name)\n",
    "\n",
    "    async with AsyncWebCrawler(config=browser_cfg) as crawler:\n",
    "        \n",
    "\n",
    "        for url in task_config.urls:\n",
    "            \n",
    "            \n",
    "            with open(output_file_path, \"a+\") as file:\n",
    "                file.write(url)\n",
    "                file.write(result.markdown.fit_markdown)\n",
    "                file.write(\"\\n\\n\")\n",
    "\n",
    "            if logfile:\n",
    "                with open(logfile, \"a+\") as file:\n",
    "                    file.write(f\"Crawled {url} to {output_file_path}\\n\")\n",
    "                    # file.write(f\"LLM usage: {llm_strategy.usages}\\n\")\n",
    "                    file.write(\"\\n\")\n",
    "\n",
    "browser_cfg = BrowserConfig(headless=True)"
   ]
  },
  {
   "cell_type": "code",
   "execution_count": 20,
   "id": "ea553606",
   "metadata": {},
   "outputs": [
    {
     "name": "stdout",
     "output_type": "stream",
     "text": [
      "CrawlerTaskConfig(task_name='Dinh Ông Nam Hải', urls=['https://vietnamtourism.gov.vn/post/39240', 'https://ittpa.baria-vungtau.gov.vn/article?item=d228276ba001e8f412067e8d4d22eeaf', 'https://baobariavungtau.com.vn/van-hoa-nghe-thuat/202503/le-hoi-nghinh-ong-nam-hai-thu-hut-hang-ngan-nguoi-tham-du-1036953/index.htm', 'https://www.huongphonghococbeachresort.com/y-nghia-le-hoi-nghinh-ong-tai-phuoc-hai-%E2%80%93-van-hoa-tam-linh-cua-nguoi-dan-bien.html'], output_dir='/Users/quanbm/Dev/sides/localgaid_notebooks/data/bronze')\n"
     ]
    }
   ],
   "source": [
    "from pydantic_core import from_json\n",
    "\n",
    "with open(\"/Users/quanbm/Dev/sides/localgaid_notebooks/crawler_task/configs/dinhongnamhai.json\", \"r\") as file:\n",
    "    task_config = CrawlerTaskConfig.model_validate(from_json(file.read(), allow_partial=True))\n",
    "print(repr(task_config))"
   ]
  },
  {
   "cell_type": "code",
   "execution_count": 24,
   "id": "2a0d6c06",
   "metadata": {},
   "outputs": [
    {
     "data": {
      "text/html": [
       "<pre style=\"white-space:pre;overflow-x:auto;line-height:normal;font-family:Menlo,'DejaVu Sans Mono',consolas,'Courier New',monospace\"><span style=\"color: #008080; text-decoration-color: #008080; font-weight: bold\">[</span><span style=\"color: #008080; text-decoration-color: #008080\">INIT</span><span style=\"color: #008080; text-decoration-color: #008080; font-weight: bold\">]</span><span style=\"color: #008080; text-decoration-color: #008080\">.... → Crawl4AI </span><span style=\"color: #008080; text-decoration-color: #008080; font-weight: bold\">0.6</span><span style=\"color: #008080; text-decoration-color: #008080\">.</span><span style=\"color: #008080; text-decoration-color: #008080; font-weight: bold\">3</span><span style=\"color: #008080; text-decoration-color: #008080\"> </span>\n",
       "</pre>\n"
      ],
      "text/plain": [
       "\u001b[1;36m[\u001b[0m\u001b[36mINIT\u001b[0m\u001b[1;36m]\u001b[0m\u001b[36m...\u001b[0m\u001b[36m. → Crawl4AI \u001b[0m\u001b[1;36m0.6\u001b[0m\u001b[36m.\u001b[0m\u001b[1;36m3\u001b[0m\u001b[36m \u001b[0m\n"
      ]
     },
     "metadata": {},
     "output_type": "display_data"
    },
    {
     "data": {
      "text/html": [
       "<pre style=\"white-space:pre;overflow-x:auto;line-height:normal;font-family:Menlo,'DejaVu Sans Mono',consolas,'Courier New',monospace\"><span style=\"color: #008000; text-decoration-color: #008000; font-weight: bold\">[</span><span style=\"color: #008000; text-decoration-color: #008000\">FETCH</span><span style=\"color: #008000; text-decoration-color: #008000; font-weight: bold\">]</span><span style=\"color: #008000; text-decoration-color: #008000\">... ↓ </span><span style=\"color: #008000; text-decoration-color: #008000; text-decoration: underline\">https://vietnamtourism.gov.vn/post/39240</span><span style=\"color: #008000; text-decoration-color: #008000\">                                                             |</span>\n",
       "<span style=\"color: #008000; text-decoration-color: #008000\">✓ | ⏱: </span><span style=\"color: #008000; text-decoration-color: #008000; font-weight: bold\">2.</span><span style=\"color: #008000; text-decoration-color: #008000\">55s </span>\n",
       "</pre>\n"
      ],
      "text/plain": [
       "\u001b[1;32m[\u001b[0m\u001b[32mFETCH\u001b[0m\u001b[1;32m]\u001b[0m\u001b[32m...\u001b[0m\u001b[32m ↓ \u001b[0m\u001b[4;32mhttps://vietnamtourism.gov.vn/post/39240\u001b[0m\u001b[32m                                                             |\u001b[0m\n",
       "\u001b[32m✓\u001b[0m\u001b[32m | ⏱: \u001b[0m\u001b[1;32m2.\u001b[0m\u001b[32m55s \u001b[0m\n"
      ]
     },
     "metadata": {},
     "output_type": "display_data"
    },
    {
     "data": {
      "text/html": [
       "<pre style=\"white-space:pre;overflow-x:auto;line-height:normal;font-family:Menlo,'DejaVu Sans Mono',consolas,'Courier New',monospace\"><span style=\"color: #008000; text-decoration-color: #008000; font-weight: bold\">[</span><span style=\"color: #008000; text-decoration-color: #008000\">SCRAPE</span><span style=\"color: #008000; text-decoration-color: #008000; font-weight: bold\">]</span><span style=\"color: #008000; text-decoration-color: #008000\">.. ◆ </span><span style=\"color: #008000; text-decoration-color: #008000; text-decoration: underline\">https://vietnamtourism.gov.vn/post/39240</span><span style=\"color: #008000; text-decoration-color: #008000\">                                                             |</span>\n",
       "<span style=\"color: #008000; text-decoration-color: #008000\">✓ | ⏱: </span><span style=\"color: #008000; text-decoration-color: #008000; font-weight: bold\">0.</span><span style=\"color: #008000; text-decoration-color: #008000\">10s </span>\n",
       "</pre>\n"
      ],
      "text/plain": [
       "\u001b[1;32m[\u001b[0m\u001b[32mSCRAPE\u001b[0m\u001b[1;32m]\u001b[0m\u001b[32m.. ◆ \u001b[0m\u001b[4;32mhttps://vietnamtourism.gov.vn/post/39240\u001b[0m\u001b[32m                                                             |\u001b[0m\n",
       "\u001b[32m✓\u001b[0m\u001b[32m | ⏱: \u001b[0m\u001b[1;32m0.\u001b[0m\u001b[32m10s \u001b[0m\n"
      ]
     },
     "metadata": {},
     "output_type": "display_data"
    },
    {
     "data": {
      "text/html": [
       "<pre style=\"white-space:pre;overflow-x:auto;line-height:normal;font-family:Menlo,'DejaVu Sans Mono',consolas,'Courier New',monospace\"><span style=\"color: #008000; text-decoration-color: #008000; font-weight: bold\">[</span><span style=\"color: #008000; text-decoration-color: #008000\">COMPLETE</span><span style=\"color: #008000; text-decoration-color: #008000; font-weight: bold\">]</span><span style=\"color: #008000; text-decoration-color: #008000\"> ● </span><span style=\"color: #008000; text-decoration-color: #008000; text-decoration: underline\">https://vietnamtourism.gov.vn/post/39240</span><span style=\"color: #008000; text-decoration-color: #008000\">                                                             |</span>\n",
       "<span style=\"color: #008000; text-decoration-color: #008000\">✓ | ⏱: </span><span style=\"color: #008000; text-decoration-color: #008000; font-weight: bold\">2.</span><span style=\"color: #008000; text-decoration-color: #008000\">66s </span>\n",
       "</pre>\n"
      ],
      "text/plain": [
       "\u001b[1;32m[\u001b[0m\u001b[32mCOMPLETE\u001b[0m\u001b[1;32m]\u001b[0m\u001b[32m ● \u001b[0m\u001b[4;32mhttps://vietnamtourism.gov.vn/post/39240\u001b[0m\u001b[32m                                                             |\u001b[0m\n",
       "\u001b[32m✓\u001b[0m\u001b[32m | ⏱: \u001b[0m\u001b[1;32m2.\u001b[0m\u001b[32m66s \u001b[0m\n"
      ]
     },
     "metadata": {},
     "output_type": "display_data"
    },
    {
     "name": "stdout",
     "output_type": "stream",
     "text": [
      "Images: [{'src': 'https://images.vietnamtourism.gov.vn/vn//images/2022/thang_1/brvt_namhai.jpg', 'data': '', 'alt': '', 'desc': 'Hình ảnh tại lễ hội Dinh Ông Nam Hải năm 2019. Ảnh: Sưu tầm Với nhiều tên gọi khác nhau như: Lễ cầu ngư; Lễ cúng Ông; Lễ rước cốt Ông; Lễ nghinh Ông Thủy Thần; Lễ Dinh Ông Nam Hải nhưng hầu hết các tên gọi đều gắn với tục thờ “Cá Ông” là sinh vật thiêng ở biển cả, là vị cứu tinh đối với người dân đánh cá nói riêng và người làm nghề mưu sinh trên biển nói chung”. Tục thờ “Cá Ông” đã trở thành một tín ngưỡng dân gian được truyền từ đời này sang đời khác trong vùng biển Phước Hải. Chính vì thế, Lễ hội Dinh Ông Nam Hải đã trở thành một nét văn hóa đặc trưng của người dân vùng biển và thu hút đông đảo du khách đến tham dự. Hình ảnh tại lễ hội Dinh Ông Nam Hải năm 2019. Ảnh: Sưu tầm Việc tổ chức lễ hội nhằm đáp ứng nhu cầu văn hóa tâm linh của người dân nói chung và ngư dân nói riêng. Đây cũng là dịp để ngư dân thể hiện lòng thành kính của bà con với thần Nam Hải đã phù hộ cho mỗi chuyến ra khơi được bình an và cầu cho mưa thuận, gió hòa để có một mùa đánh bắt bội thu, đem đến cuộc sống ấm no hạnh phúc./. Trung tâm Thông tin du lịch/ BQL các khu du lịch huyện Đất Đỏ', 'score': 4, 'type': 'image', 'group_id': 4, 'format': 'jpg', 'width': None}, {'src': 'https://images.vietnamtourism.gov.vn/vn//images/2022/thang_1/brvt_nh2.jpg', 'data': '', 'alt': '', 'desc': 'Hình ảnh tại lễ hội Dinh Ông Nam Hải năm 2019. Ảnh: Sưu tầm Với nhiều tên gọi khác nhau như: Lễ cầu ngư; Lễ cúng Ông; Lễ rước cốt Ông; Lễ nghinh Ông Thủy Thần; Lễ Dinh Ông Nam Hải nhưng hầu hết các tên gọi đều gắn với tục thờ “Cá Ông” là sinh vật thiêng ở biển cả, là vị cứu tinh đối với người dân đánh cá nói riêng và người làm nghề mưu sinh trên biển nói chung”. Tục thờ “Cá Ông” đã trở thành một tín ngưỡng dân gian được truyền từ đời này sang đời khác trong vùng biển Phước Hải. Chính vì thế, Lễ hội Dinh Ông Nam Hải đã trở thành một nét văn hóa đặc trưng của người dân vùng biển và thu hút đông đảo du khách đến tham dự. Hình ảnh tại lễ hội Dinh Ông Nam Hải năm 2019. Ảnh: Sưu tầm Việc tổ chức lễ hội nhằm đáp ứng nhu cầu văn hóa tâm linh của người dân nói chung và ngư dân nói riêng. Đây cũng là dịp để ngư dân thể hiện lòng thành kính của bà con với thần Nam Hải đã phù hộ cho mỗi chuyến ra khơi được bình an và cầu cho mưa thuận, gió hòa để có một mùa đánh bắt bội thu, đem đến cuộc sống ấm no hạnh phúc./. Trung tâm Thông tin du lịch/ BQL các khu du lịch huyện Đất Đỏ', 'score': 4, 'type': 'image', 'group_id': 5, 'format': 'jpg', 'width': None}, {'src': 'https://images.vietnamtourism.gov.vn/vn//images/banners/2025/banner_270x300.png', 'data': '', 'alt': '', 'desc': 'Trang chủ Vẻ đẹp Việt Facebook Twitter Email Khám phá văn hóa lễ hội truyền thống Dinh Ông Nam Hải ở Bà Rịa – Vũng Tàu 25/01/2022 10:32:18 Lượt xem: 1254 (TITC) - Lễ hội Dinh Ông Nam Hải là lễ hội văn hóa, dân gian truyền thống được nhân dân thị trấn Phước Hải, huyện Đất Đỏ, tỉnh Bà Rịa – Vũng Tàu giữ gìn và tổ chức suốt nhiều năm qua. Theo thông lệ, Lễ hội được tổ chức trong 03 ngày, từ ngày 15-17 tháng 02 âm lịch hàng năm. Hình ảnh tại lễ hội Dinh Ông Nam Hải năm 2019. Ảnh: Sưu tầm Với nhiều tên gọi khác nhau như: Lễ cầu ngư; Lễ cúng Ông; Lễ rước cốt Ông; Lễ nghinh Ông Thủy Thần; Lễ Dinh Ông Nam Hải nhưng hầu hết các tên gọi đều gắn với tục thờ “Cá Ông” là sinh vật thiêng ở biển cả, là vị cứu tinh đối với người dân đánh cá nói riêng và người làm nghề mưu sinh trên biển nói chung”. Tục thờ “Cá Ông” đã trở thành một tín ngưỡng dân gian được truyền từ đời này sang đời khác trong vùng biển Phước Hải. Chính vì thế, Lễ hội Dinh Ông Nam Hải đã trở thành một nét văn hóa đặc trưng của người dân vùng biển và thu hút đông đảo du khách đến tham dự. Hình ảnh tại lễ hội Dinh Ông Nam Hải năm 2019. Ảnh: Sưu tầm Việc tổ chức lễ hội nhằm đáp ứng nhu cầu văn hóa tâm linh của người dân nói chung và ngư dân nói riêng. Đây cũng là dịp để ngư dân thể hiện lòng thành kính của bà con với thần Nam Hải đã phù hộ cho mỗi chuyến ra khơi được bình an và cầu cho mưa thuận, gió hòa để có một mùa đánh bắt bội thu, đem đến cuộc sống ấm no hạnh phúc./. Trung tâm Thông tin du lịch/ BQL các khu du lịch huyện Đất Đỏ Từ khóa: Bà Rịa – Vũng Tàu , Dinh Ông Nam Hải , lễ hội truyền thống Dinh Ông Nam Hải , Facebook Twitter Email Tin khác Áng Tiên - Bảo tàng thiên nhiên trong lòng di sản Vịnh Hạ Long (25/01/2022) Chợ phiên cuối năm ở Bình Liêu (Quảng Ninh) (25/01/2022) Check-in hồ Đá Trải, Bình Định (25/01/2022) Khám phá Bãi Nước Ngọt tuyệt tác thiên nhiên giữa đất trời Ninh Thuận (24/01/2022) Na Hang (Tuyên Quang): Vùng đất sơn thủy hữu tình (20/01/2022) Sắc màu chợ Cán Cấu (Lào Cai) (19/01/2022)', 'score': 4, 'type': 'image', 'group_id': 17, 'format': 'png', 'width': None}, {'src': 'https://images.vietnamtourism.gov.vn/vn//images/ad/2022/van_mieu_v.jpg', 'data': '', 'alt': '', 'desc': 'Trang chủ Vẻ đẹp Việt Facebook Twitter Email Khám phá văn hóa lễ hội truyền thống Dinh Ông Nam Hải ở Bà Rịa – Vũng Tàu 25/01/2022 10:32:18 Lượt xem: 1254 (TITC) - Lễ hội Dinh Ông Nam Hải là lễ hội văn hóa, dân gian truyền thống được nhân dân thị trấn Phước Hải, huyện Đất Đỏ, tỉnh Bà Rịa – Vũng Tàu giữ gìn và tổ chức suốt nhiều năm qua. Theo thông lệ, Lễ hội được tổ chức trong 03 ngày, từ ngày 15-17 tháng 02 âm lịch hàng năm. Hình ảnh tại lễ hội Dinh Ông Nam Hải năm 2019. Ảnh: Sưu tầm Với nhiều tên gọi khác nhau như: Lễ cầu ngư; Lễ cúng Ông; Lễ rước cốt Ông; Lễ nghinh Ông Thủy Thần; Lễ Dinh Ông Nam Hải nhưng hầu hết các tên gọi đều gắn với tục thờ “Cá Ông” là sinh vật thiêng ở biển cả, là vị cứu tinh đối với người dân đánh cá nói riêng và người làm nghề mưu sinh trên biển nói chung”. Tục thờ “Cá Ông” đã trở thành một tín ngưỡng dân gian được truyền từ đời này sang đời khác trong vùng biển Phước Hải. Chính vì thế, Lễ hội Dinh Ông Nam Hải đã trở thành một nét văn hóa đặc trưng của người dân vùng biển và thu hút đông đảo du khách đến tham dự. Hình ảnh tại lễ hội Dinh Ông Nam Hải năm 2019. Ảnh: Sưu tầm Việc tổ chức lễ hội nhằm đáp ứng nhu cầu văn hóa tâm linh của người dân nói chung và ngư dân nói riêng. Đây cũng là dịp để ngư dân thể hiện lòng thành kính của bà con với thần Nam Hải đã phù hộ cho mỗi chuyến ra khơi được bình an và cầu cho mưa thuận, gió hòa để có một mùa đánh bắt bội thu, đem đến cuộc sống ấm no hạnh phúc./. Trung tâm Thông tin du lịch/ BQL các khu du lịch huyện Đất Đỏ Từ khóa: Bà Rịa – Vũng Tàu , Dinh Ông Nam Hải , lễ hội truyền thống Dinh Ông Nam Hải , Facebook Twitter Email Tin khác Áng Tiên - Bảo tàng thiên nhiên trong lòng di sản Vịnh Hạ Long (25/01/2022) Chợ phiên cuối năm ở Bình Liêu (Quảng Ninh) (25/01/2022) Check-in hồ Đá Trải, Bình Định (25/01/2022) Khám phá Bãi Nước Ngọt tuyệt tác thiên nhiên giữa đất trời Ninh Thuận (24/01/2022) Na Hang (Tuyên Quang): Vùng đất sơn thủy hữu tình (20/01/2022) Sắc màu chợ Cán Cấu (Lào Cai) (19/01/2022)', 'score': 4, 'type': 'image', 'group_id': 20, 'format': 'jpg', 'width': None}]\n"
     ]
    },
    {
     "data": {
      "text/html": [
       "<pre style=\"white-space:pre;overflow-x:auto;line-height:normal;font-family:Menlo,'DejaVu Sans Mono',consolas,'Courier New',monospace\"><span style=\"color: #008000; text-decoration-color: #008000; font-weight: bold\">[</span><span style=\"color: #008000; text-decoration-color: #008000\">FETCH</span><span style=\"color: #008000; text-decoration-color: #008000; font-weight: bold\">]</span><span style=\"color: #008000; text-decoration-color: #008000\">... ↓ </span><span style=\"color: #008000; text-decoration-color: #008000; text-decoration: underline\">https://ittpa.baria-vungtau.gov.vn/article?item=d228276ba001e8f412067e8d4d22eeaf</span><span style=\"color: #008000; text-decoration-color: #008000\">                     |</span>\n",
       "<span style=\"color: #008000; text-decoration-color: #008000\">✓ | ⏱: </span><span style=\"color: #008000; text-decoration-color: #008000; font-weight: bold\">1.</span><span style=\"color: #008000; text-decoration-color: #008000\">24s </span>\n",
       "</pre>\n"
      ],
      "text/plain": [
       "\u001b[1;32m[\u001b[0m\u001b[32mFETCH\u001b[0m\u001b[1;32m]\u001b[0m\u001b[32m...\u001b[0m\u001b[32m ↓ \u001b[0m\u001b[4;32mhttps://ittpa.baria-vungtau.gov.vn/article?\u001b[0m\u001b[4;32mitem\u001b[0m\u001b[4;32m=\u001b[0m\u001b[4;32md228276ba001e8f412067e8d4d22eeaf\u001b[0m\u001b[32m                     |\u001b[0m\n",
       "\u001b[32m✓\u001b[0m\u001b[32m | ⏱: \u001b[0m\u001b[1;32m1.\u001b[0m\u001b[32m24s \u001b[0m\n"
      ]
     },
     "metadata": {},
     "output_type": "display_data"
    },
    {
     "data": {
      "text/html": [
       "<pre style=\"white-space:pre;overflow-x:auto;line-height:normal;font-family:Menlo,'DejaVu Sans Mono',consolas,'Courier New',monospace\"><span style=\"color: #008000; text-decoration-color: #008000; font-weight: bold\">[</span><span style=\"color: #008000; text-decoration-color: #008000\">SCRAPE</span><span style=\"color: #008000; text-decoration-color: #008000; font-weight: bold\">]</span><span style=\"color: #008000; text-decoration-color: #008000\">.. ◆ </span><span style=\"color: #008000; text-decoration-color: #008000; text-decoration: underline\">https://ittpa.baria-vungtau.gov.vn/article?item=d228276ba001e8f412067e8d4d22eeaf</span><span style=\"color: #008000; text-decoration-color: #008000\">                     |</span>\n",
       "<span style=\"color: #008000; text-decoration-color: #008000\">✓ | ⏱: </span><span style=\"color: #008000; text-decoration-color: #008000; font-weight: bold\">0.</span><span style=\"color: #008000; text-decoration-color: #008000\">04s </span>\n",
       "</pre>\n"
      ],
      "text/plain": [
       "\u001b[1;32m[\u001b[0m\u001b[32mSCRAPE\u001b[0m\u001b[1;32m]\u001b[0m\u001b[32m.. ◆ \u001b[0m\u001b[4;32mhttps://ittpa.baria-vungtau.gov.vn/article?\u001b[0m\u001b[4;32mitem\u001b[0m\u001b[4;32m=\u001b[0m\u001b[4;32md228276ba001e8f412067e8d4d22eeaf\u001b[0m\u001b[32m                     |\u001b[0m\n",
       "\u001b[32m✓\u001b[0m\u001b[32m | ⏱: \u001b[0m\u001b[1;32m0.\u001b[0m\u001b[32m04s \u001b[0m\n"
      ]
     },
     "metadata": {},
     "output_type": "display_data"
    },
    {
     "data": {
      "text/html": [
       "<pre style=\"white-space:pre;overflow-x:auto;line-height:normal;font-family:Menlo,'DejaVu Sans Mono',consolas,'Courier New',monospace\"><span style=\"color: #008000; text-decoration-color: #008000; font-weight: bold\">[</span><span style=\"color: #008000; text-decoration-color: #008000\">COMPLETE</span><span style=\"color: #008000; text-decoration-color: #008000; font-weight: bold\">]</span><span style=\"color: #008000; text-decoration-color: #008000\"> ● </span><span style=\"color: #008000; text-decoration-color: #008000; text-decoration: underline\">https://ittpa.baria-vungtau.gov.vn/article?item=d228276ba001e8f412067e8d4d22eeaf</span><span style=\"color: #008000; text-decoration-color: #008000\">                     |</span>\n",
       "<span style=\"color: #008000; text-decoration-color: #008000\">✓ | ⏱: </span><span style=\"color: #008000; text-decoration-color: #008000; font-weight: bold\">1.</span><span style=\"color: #008000; text-decoration-color: #008000\">28s </span>\n",
       "</pre>\n"
      ],
      "text/plain": [
       "\u001b[1;32m[\u001b[0m\u001b[32mCOMPLETE\u001b[0m\u001b[1;32m]\u001b[0m\u001b[32m ● \u001b[0m\u001b[4;32mhttps://ittpa.baria-vungtau.gov.vn/article?\u001b[0m\u001b[4;32mitem\u001b[0m\u001b[4;32m=\u001b[0m\u001b[4;32md228276ba001e8f412067e8d4d22eeaf\u001b[0m\u001b[32m                     |\u001b[0m\n",
       "\u001b[32m✓\u001b[0m\u001b[32m | ⏱: \u001b[0m\u001b[1;32m1.\u001b[0m\u001b[32m28s \u001b[0m\n"
      ]
     },
     "metadata": {},
     "output_type": "display_data"
    },
    {
     "name": "stdout",
     "output_type": "stream",
     "text": [
      "Images: [{'src': '/portal/editor/images/Anh tin du lich/image001-no.jpg', 'data': '', 'alt': '', 'desc': 'Lễ hội Nghinh Ông Nam Hải là lễ hội văn hóa đã được cộng đồng giữ gìn và tổ chức suốt nhiều năm qua nhằm phục vụ nhu cầu tín ngưỡng dân gian của bà con ngư dân vùng biển trong hoạt động đánh bắt hải sản hàng năm tại thị trấn Phước Hải, huyện Đất Đỏ. Lễ hội của ngư dân vùng biển luôn gắn liền với tục thờ Cá Ông. Tuy có nhiều tên gọi khác nhau như: lễ cầu ngư; lễ cúng Ông; lễ rước cốt Ông; lễ nghinh Ông Thủy Thần, nhưng hầu hết đều có chung một quan niệm rằng: “Cá Ông là sinh vật thiêng ở biển, là vị cứu tinh đối với những người đánh cá nói riêng và làm nghề trên biển nói chung”. Tổ chức phần Lễ trang nghiêm, mang tính cộng đồng, tôn vinh di sản \"Tin ngưỡng dân gian\", nhằm tạo nét đặc trưng riêng cho văn hóa du lịch địa phương; tạo sức lan tỏa rộng rãi trong và ngoài địa phương; tuyên truyền, phổ biển, tạo điều kiện thuận lợi nhất cho người dân và du khách về dự Lễ hội. Quá trình tổ chức Lễ hội đảm bảo tính trang nghiêm, an toàn, tiết kiệm, đảm bảo an ninh chính trị, trật tự an toàn xã hội, an toàn vệ sinh thực phẩm gắn với phòng, chống dịch COVID-19. CHƯƠNG TRÌNH NGHI LỄ NĂM 2022 Lễ hội Nghinh Ông sẽ diễn ra trong 03 ngày: 17, 18, 19/3/2022 (ngày 15, 16, 17/2 âm lịch) tại Dinh Ông Nam Hải. - Ngày 17/3/2022 (ngày 15/2 âm lịch): 07 giờ cúng giỗ mộ Tiền Hiền, Hậu Hiển. - Ngày 18/3/2022 (ngày 16/2 âm lịch): 06 giờ: cúng Tiền Hiền, Hậu Hiền. 08 giờ: Lễ Nghinh Thủy Thần, chèo Bá trạo. 10 giờ: Cúng lễ chánh. 11 giờ: Khai viên. 19 giờ: Đoàn hát bộ hát cúng Ông. - Ngày 19/3/2022 (ngày 17/2 âm lịch): 07 giờ: Nghinh Bà nhập điện, chèo Bá trạo. 09 giờ: Cúng Lệ vũng. 11 giờ: Bóng rối cúng Bà Ngũ Hành. 14 giờ: Cúng thí thực. 19 giờ: Đoàn hát bộ hát củng Ông 23 giờ: Hoàn mãn. Lễ hội được tổ chức nhằm quảng bá hình ảnh quê hương Đất Đỏ nói chung, thị trấn Phước Hải nói riêng với những nét văn hóa đặc trưng đến du khách gần xa. Kế thừa và phát triển hoạt động Lễ hội truyền thống Lệ Xuân Quý Nghinh Ông Nam Hải, nhằm bảo tồn và phát huy các giá trị văn hóa truyền thống, qua đó giáo dục giới trẻ về truyền thống cha ông từ ngày xưa, ghi nhớ các phong tục tập quản nghề cá của ngư dân và sự tích Cá Ông tại địa phương. Tin: Tổ Hỗ trợ thông tin khách du lịch - BQL các khu du lịch huyện Đất Đỏ Ảnh: Sưu tầm', 'score': 4, 'type': 'image', 'group_id': 2, 'format': 'jpg', 'width': None}, {'src': '/portal/editor/images/Anh tin du lich/image002-no.jpg', 'data': '', 'alt': '', 'desc': 'Lễ hội Nghinh Ông Nam Hải là lễ hội văn hóa đã được cộng đồng giữ gìn và tổ chức suốt nhiều năm qua nhằm phục vụ nhu cầu tín ngưỡng dân gian của bà con ngư dân vùng biển trong hoạt động đánh bắt hải sản hàng năm tại thị trấn Phước Hải, huyện Đất Đỏ. Lễ hội của ngư dân vùng biển luôn gắn liền với tục thờ Cá Ông. Tuy có nhiều tên gọi khác nhau như: lễ cầu ngư; lễ cúng Ông; lễ rước cốt Ông; lễ nghinh Ông Thủy Thần, nhưng hầu hết đều có chung một quan niệm rằng: “Cá Ông là sinh vật thiêng ở biển, là vị cứu tinh đối với những người đánh cá nói riêng và làm nghề trên biển nói chung”. Tổ chức phần Lễ trang nghiêm, mang tính cộng đồng, tôn vinh di sản \"Tin ngưỡng dân gian\", nhằm tạo nét đặc trưng riêng cho văn hóa du lịch địa phương; tạo sức lan tỏa rộng rãi trong và ngoài địa phương; tuyên truyền, phổ biển, tạo điều kiện thuận lợi nhất cho người dân và du khách về dự Lễ hội. Quá trình tổ chức Lễ hội đảm bảo tính trang nghiêm, an toàn, tiết kiệm, đảm bảo an ninh chính trị, trật tự an toàn xã hội, an toàn vệ sinh thực phẩm gắn với phòng, chống dịch COVID-19. CHƯƠNG TRÌNH NGHI LỄ NĂM 2022 Lễ hội Nghinh Ông sẽ diễn ra trong 03 ngày: 17, 18, 19/3/2022 (ngày 15, 16, 17/2 âm lịch) tại Dinh Ông Nam Hải. - Ngày 17/3/2022 (ngày 15/2 âm lịch): 07 giờ cúng giỗ mộ Tiền Hiền, Hậu Hiển. - Ngày 18/3/2022 (ngày 16/2 âm lịch): 06 giờ: cúng Tiền Hiền, Hậu Hiền. 08 giờ: Lễ Nghinh Thủy Thần, chèo Bá trạo. 10 giờ: Cúng lễ chánh. 11 giờ: Khai viên. 19 giờ: Đoàn hát bộ hát cúng Ông. - Ngày 19/3/2022 (ngày 17/2 âm lịch): 07 giờ: Nghinh Bà nhập điện, chèo Bá trạo. 09 giờ: Cúng Lệ vũng. 11 giờ: Bóng rối cúng Bà Ngũ Hành. 14 giờ: Cúng thí thực. 19 giờ: Đoàn hát bộ hát củng Ông 23 giờ: Hoàn mãn. Lễ hội được tổ chức nhằm quảng bá hình ảnh quê hương Đất Đỏ nói chung, thị trấn Phước Hải nói riêng với những nét văn hóa đặc trưng đến du khách gần xa. Kế thừa và phát triển hoạt động Lễ hội truyền thống Lệ Xuân Quý Nghinh Ông Nam Hải, nhằm bảo tồn và phát huy các giá trị văn hóa truyền thống, qua đó giáo dục giới trẻ về truyền thống cha ông từ ngày xưa, ghi nhớ các phong tục tập quản nghề cá của ngư dân và sự tích Cá Ông tại địa phương. Tin: Tổ Hỗ trợ thông tin khách du lịch - BQL các khu du lịch huyện Đất Đỏ Ảnh: Sưu tầm', 'score': 4, 'type': 'image', 'group_id': 3, 'format': 'jpg', 'width': None}]\n"
     ]
    },
    {
     "data": {
      "text/html": [
       "<pre style=\"white-space:pre;overflow-x:auto;line-height:normal;font-family:Menlo,'DejaVu Sans Mono',consolas,'Courier New',monospace\"><span style=\"color: #008000; text-decoration-color: #008000; font-weight: bold\">[</span><span style=\"color: #008000; text-decoration-color: #008000\">FETCH</span><span style=\"color: #008000; text-decoration-color: #008000; font-weight: bold\">]</span><span style=\"color: #008000; text-decoration-color: #008000\">... ↓ </span><span style=\"color: #008000; text-decoration-color: #008000; text-decoration: underline\">https://baobariavungtau.com.vn/van-hoa-nghe-thua...hu-hut-hang-ngan-nguoi-tham-du-1036953/index.htm</span><span style=\"color: #008000; text-decoration-color: #008000\">  |</span>\n",
       "<span style=\"color: #008000; text-decoration-color: #008000\">✓ | ⏱: </span><span style=\"color: #008000; text-decoration-color: #008000; font-weight: bold\">1.</span><span style=\"color: #008000; text-decoration-color: #008000\">28s </span>\n",
       "</pre>\n"
      ],
      "text/plain": [
       "\u001b[1;32m[\u001b[0m\u001b[32mFETCH\u001b[0m\u001b[1;32m]\u001b[0m\u001b[32m...\u001b[0m\u001b[32m ↓ \u001b[0m\u001b[4;32mhttps://baobariavungtau.com.vn/van-hoa-nghe-thua...hu-hut-hang-ngan-nguoi-tham-du-1036953/index.htm\u001b[0m\u001b[32m  |\u001b[0m\n",
       "\u001b[32m✓\u001b[0m\u001b[32m | ⏱: \u001b[0m\u001b[1;32m1.\u001b[0m\u001b[32m28s \u001b[0m\n"
      ]
     },
     "metadata": {},
     "output_type": "display_data"
    },
    {
     "data": {
      "text/html": [
       "<pre style=\"white-space:pre;overflow-x:auto;line-height:normal;font-family:Menlo,'DejaVu Sans Mono',consolas,'Courier New',monospace\"><span style=\"color: #008000; text-decoration-color: #008000; font-weight: bold\">[</span><span style=\"color: #008000; text-decoration-color: #008000\">SCRAPE</span><span style=\"color: #008000; text-decoration-color: #008000; font-weight: bold\">]</span><span style=\"color: #008000; text-decoration-color: #008000\">.. ◆ </span><span style=\"color: #008000; text-decoration-color: #008000; text-decoration: underline\">https://baobariavungtau.com.vn/van-hoa-nghe-thua...hu-hut-hang-ngan-nguoi-tham-du-1036953/index.htm</span><span style=\"color: #008000; text-decoration-color: #008000\">  |</span>\n",
       "<span style=\"color: #008000; text-decoration-color: #008000\">✓ | ⏱: </span><span style=\"color: #008000; text-decoration-color: #008000; font-weight: bold\">0.</span><span style=\"color: #008000; text-decoration-color: #008000\">02s </span>\n",
       "</pre>\n"
      ],
      "text/plain": [
       "\u001b[1;32m[\u001b[0m\u001b[32mSCRAPE\u001b[0m\u001b[1;32m]\u001b[0m\u001b[32m.. ◆ \u001b[0m\u001b[4;32mhttps://baobariavungtau.com.vn/van-hoa-nghe-thua...hu-hut-hang-ngan-nguoi-tham-du-1036953/index.htm\u001b[0m\u001b[32m  |\u001b[0m\n",
       "\u001b[32m✓\u001b[0m\u001b[32m | ⏱: \u001b[0m\u001b[1;32m0.\u001b[0m\u001b[32m02s \u001b[0m\n"
      ]
     },
     "metadata": {},
     "output_type": "display_data"
    },
    {
     "data": {
      "text/html": [
       "<pre style=\"white-space:pre;overflow-x:auto;line-height:normal;font-family:Menlo,'DejaVu Sans Mono',consolas,'Courier New',monospace\"><span style=\"color: #008000; text-decoration-color: #008000; font-weight: bold\">[</span><span style=\"color: #008000; text-decoration-color: #008000\">COMPLETE</span><span style=\"color: #008000; text-decoration-color: #008000; font-weight: bold\">]</span><span style=\"color: #008000; text-decoration-color: #008000\"> ● </span><span style=\"color: #008000; text-decoration-color: #008000; text-decoration: underline\">https://baobariavungtau.com.vn/van-hoa-nghe-thua...hu-hut-hang-ngan-nguoi-tham-du-1036953/index.htm</span><span style=\"color: #008000; text-decoration-color: #008000\">  |</span>\n",
       "<span style=\"color: #008000; text-decoration-color: #008000\">✓ | ⏱: </span><span style=\"color: #008000; text-decoration-color: #008000; font-weight: bold\">1.</span><span style=\"color: #008000; text-decoration-color: #008000\">31s </span>\n",
       "</pre>\n"
      ],
      "text/plain": [
       "\u001b[1;32m[\u001b[0m\u001b[32mCOMPLETE\u001b[0m\u001b[1;32m]\u001b[0m\u001b[32m ● \u001b[0m\u001b[4;32mhttps://baobariavungtau.com.vn/van-hoa-nghe-thua...hu-hut-hang-ngan-nguoi-tham-du-1036953/index.htm\u001b[0m\u001b[32m  |\u001b[0m\n",
       "\u001b[32m✓\u001b[0m\u001b[32m | ⏱: \u001b[0m\u001b[1;32m1.\u001b[0m\u001b[32m31s \u001b[0m\n"
      ]
     },
     "metadata": {},
     "output_type": "display_data"
    },
    {
     "name": "stdout",
     "output_type": "stream",
     "text": [
      "Images: [{'src': '/dataimages/202503/original/images2007038_dua_aaa.jpg', 'data': '', 'alt': '  Biểu diễn ghe mô hình trên biển tại lễ hội Nghinh Ông Nam Hải.', 'desc': 'Biểu diễn ghe mô hình trên biển tại lễ hội Nghinh Ông Nam Hải.', 'score': 5, 'type': 'image', 'group_id': 4, 'format': 'jpg', 'width': None}]\n"
     ]
    },
    {
     "data": {
      "text/html": [
       "<pre style=\"white-space:pre;overflow-x:auto;line-height:normal;font-family:Menlo,'DejaVu Sans Mono',consolas,'Courier New',monospace\"><span style=\"color: #008000; text-decoration-color: #008000; font-weight: bold\">[</span><span style=\"color: #008000; text-decoration-color: #008000\">FETCH</span><span style=\"color: #008000; text-decoration-color: #008000; font-weight: bold\">]</span><span style=\"color: #008000; text-decoration-color: #008000\">... ↓ </span><span style=\"color: #008000; text-decoration-color: #008000; text-decoration: underline\">https://www.huongphonghococbeachresort.com/y-ngh...c-hai-</span><span style=\"color: #008000; text-decoration-color: #008000\">–-van-hoa-tam-linh-cua-nguoi-dan-bien.html  |</span>\n",
       "<span style=\"color: #008000; text-decoration-color: #008000\">✓ | ⏱: </span><span style=\"color: #008000; text-decoration-color: #008000; font-weight: bold\">1.</span><span style=\"color: #008000; text-decoration-color: #008000\">10s </span>\n",
       "</pre>\n"
      ],
      "text/plain": [
       "\u001b[1;32m[\u001b[0m\u001b[32mFETCH\u001b[0m\u001b[1;32m]\u001b[0m\u001b[32m...\u001b[0m\u001b[32m ↓ \u001b[0m\u001b[4;32mhttps://www.huongphonghococbeachresort.com/y-ngh...c-hai-\u001b[0m\u001b[32m–-van-hoa-tam-linh-cua-nguoi-dan-bien.html  |\u001b[0m\n",
       "\u001b[32m✓\u001b[0m\u001b[32m | ⏱: \u001b[0m\u001b[1;32m1.\u001b[0m\u001b[32m10s \u001b[0m\n"
      ]
     },
     "metadata": {},
     "output_type": "display_data"
    },
    {
     "data": {
      "text/html": [
       "<pre style=\"white-space:pre;overflow-x:auto;line-height:normal;font-family:Menlo,'DejaVu Sans Mono',consolas,'Courier New',monospace\"><span style=\"color: #008000; text-decoration-color: #008000; font-weight: bold\">[</span><span style=\"color: #008000; text-decoration-color: #008000\">SCRAPE</span><span style=\"color: #008000; text-decoration-color: #008000; font-weight: bold\">]</span><span style=\"color: #008000; text-decoration-color: #008000\">.. ◆ </span><span style=\"color: #008000; text-decoration-color: #008000; text-decoration: underline\">https://www.huongphonghococbeachresort.com/y-ngh...c-hai-</span><span style=\"color: #008000; text-decoration-color: #008000\">–-van-hoa-tam-linh-cua-nguoi-dan-bien.html  |</span>\n",
       "<span style=\"color: #008000; text-decoration-color: #008000\">✓ | ⏱: </span><span style=\"color: #008000; text-decoration-color: #008000; font-weight: bold\">0.</span><span style=\"color: #008000; text-decoration-color: #008000\">03s </span>\n",
       "</pre>\n"
      ],
      "text/plain": [
       "\u001b[1;32m[\u001b[0m\u001b[32mSCRAPE\u001b[0m\u001b[1;32m]\u001b[0m\u001b[32m.. ◆ \u001b[0m\u001b[4;32mhttps://www.huongphonghococbeachresort.com/y-ngh...c-hai-\u001b[0m\u001b[32m–-van-hoa-tam-linh-cua-nguoi-dan-bien.html  |\u001b[0m\n",
       "\u001b[32m✓\u001b[0m\u001b[32m | ⏱: \u001b[0m\u001b[1;32m0.\u001b[0m\u001b[32m03s \u001b[0m\n"
      ]
     },
     "metadata": {},
     "output_type": "display_data"
    },
    {
     "data": {
      "text/html": [
       "<pre style=\"white-space:pre;overflow-x:auto;line-height:normal;font-family:Menlo,'DejaVu Sans Mono',consolas,'Courier New',monospace\"><span style=\"color: #008000; text-decoration-color: #008000; font-weight: bold\">[</span><span style=\"color: #008000; text-decoration-color: #008000\">COMPLETE</span><span style=\"color: #008000; text-decoration-color: #008000; font-weight: bold\">]</span><span style=\"color: #008000; text-decoration-color: #008000\"> ● </span><span style=\"color: #008000; text-decoration-color: #008000; text-decoration: underline\">https://www.huongphonghococbeachresort.com/y-ngh...c-hai-</span><span style=\"color: #008000; text-decoration-color: #008000\">–-van-hoa-tam-linh-cua-nguoi-dan-bien.html  |</span>\n",
       "<span style=\"color: #008000; text-decoration-color: #008000\">✓ | ⏱: </span><span style=\"color: #008000; text-decoration-color: #008000; font-weight: bold\">1.</span><span style=\"color: #008000; text-decoration-color: #008000\">12s </span>\n",
       "</pre>\n"
      ],
      "text/plain": [
       "\u001b[1;32m[\u001b[0m\u001b[32mCOMPLETE\u001b[0m\u001b[1;32m]\u001b[0m\u001b[32m ● \u001b[0m\u001b[4;32mhttps://www.huongphonghococbeachresort.com/y-ngh...c-hai-\u001b[0m\u001b[32m–-van-hoa-tam-linh-cua-nguoi-dan-bien.html  |\u001b[0m\n",
       "\u001b[32m✓\u001b[0m\u001b[32m | ⏱: \u001b[0m\u001b[1;32m1.\u001b[0m\u001b[32m12s \u001b[0m\n"
      ]
     },
     "metadata": {},
     "output_type": "display_data"
    },
    {
     "name": "stdout",
     "output_type": "stream",
     "text": [
      "Images: [{'src': 'https://www.huongphonghococbeachresort.com/uploads/images1792816_nghinh__ng.jpg', 'data': '', 'alt': 'Ý Nghĩa Lễ Hội Nghinh Ông Tại Phước Hải – Văn Hóa Tâm Linh Của Người Dân Biển', 'desc': 'Ý Nghĩa Lễ Hội Nghinh Ông Tại Phước Hải – Văn Hóa Tâm Linh Của Người Dân Biển 18/12/2024 - Tin Tức Địa Phương Lễ hội Nghinh Ông tại Phước Hải, Bà Rịa - Vũng Tàu, không chỉ là một sự kiện văn hóa đặc sắc mà còn mang trong mình giá trị tâm linh sâu sắc. Đây là dịp để người dân biển bày tỏ lòng tri ân với Cá Ông (cá voi) – vị thần bảo hộ của ngư dân trong những chuyến hải trình đầy thử thách, đồng thời thể hiện sự đoàn kết, gắn bó cộng đồng và lòng biết ơn thiên nhiên. 1. Nguồn gốc và ý nghĩa tâm linh Theo tín ngưỡng dân gian, Cá Ông là loài linh thiêng, luôn giúp đỡ ngư dân vượt qua sóng dữ và những hiểm họa trên biển. Người dân Phước Hải tôn thờ Cá Ông như một vị thần hộ mệnh, gọi bằng những tên kính cẩn như \"Ông Nam Hải\" hoặc \"Ông Lớn\". Lễ hội Nghinh Ông, diễn ra vào tháng Hai âm lịch hàng năm, là dịp để ngư dân tạ ơn vị thần biển cả, cầu mong một mùa biển an lành, tôm cá đầy khoang và bình an cho gia đình. 2. Các nghi thức trang trọng trong lễ hội Lễ hội Nghinh Ông ở Phước Hải được tổ chức với các nghi thức long trọng, vừa trang nghiêm vừa mang đậm màu sắc dân gian. Lễ rước Nghinh Ông: Đây là phần quan trọng nhất, khi ngư dân dùng thuyền lớn trang trí cờ hoa để rước linh Cá Ông từ biển vào bờ. Hoạt động này tượng trưng cho việc nghênh đón vị thần hộ mệnh về với làng chài. Lễ cúng tế: Tại đình làng, các bô lão và ngư dân thực hiện nghi thức dâng hương, cúng tế để bày tỏ lòng biết ơn. Biểu diễn nghệ thuật truyền thống: Sau các nghi lễ, người dân và du khách được tham gia vào các hoạt động văn hóa như múa lân, hát bội, chèo thuyền, tạo nên không khí lễ hội tưng bừng. 3. Ý nghĩa văn hóa cộng đồng Lễ hội Nghinh Ông không chỉ mang ý nghĩa tâm linh mà còn là dịp để người dân Phước Hải thể hiện sự đoàn kết. Đây là cơ hội để ngư dân chia sẻ kinh nghiệm nghề biển, cùng nhau gìn giữ và phát huy những giá trị truyền thống của cha ông. Ngoài ra, lễ hội còn thu hút đông đảo du khách, góp phần quảng bá hình ảnh làng chài Phước Hải và thúc đẩy phát triển du lịch địa phương. 4. Trải nghiệm độc đáo dành cho du khách Tham gia lễ hội Nghinh Ông tại Phước Hải, bạn không chỉ được chiêm ngưỡng các nghi thức truyền thống mà còn có cơ hội hòa mình vào đời sống văn hóa địa phương. Tham gia các hoạt động lễ hội: Du khách có thể theo chân đoàn thuyền rước Nghinh Ông trên biển, tận hưởng không khí rộn ràng của một ngày hội lớn. Khám phá ẩm thực biển: Các gian hàng đặc sản biển như cá khô, mực nướng, bánh xèo hải sản... sẽ làm hài lòng mọi thực khách. 5. Gìn giữ nét đẹp truyền thống Lễ hội Nghinh Ông tại Phước Hải không chỉ là một sự kiện văn hóa mà còn là biểu tượng của lòng biết ơn và sự kết nối giữa con người và thiên nhiên. Đây là một di sản văn hóa phi vật thể quý giá, cần được bảo tồn và phát huy để thế hệ mai sau hiểu rõ hơn về cuộc sống gắn bó với biển cả của người dân nơi đây. Kết luận Lễ hội Nghinh Ông tại Phước Hải là minh chứng sống động cho tình yêu và lòng biết ơn của người dân biển đối với thiên nhiên. Nếu có dịp ghé thăm Bà Rịa - Vũng Tàu vào mùa lễ hội, hãy dành thời gian trải nghiệm để cảm nhận không khí thiêng liêng, rộn ràng và đậm đà bản sắc văn hóa này. Tin Tức Địa Phương Khác Hương Phong Hồ Cốc Beach Resort 09/10/2023 Tin Tức Địa Phương SỰ TÍCH BÃI BIỂN HỒ CỐC BÀ RỊA - VŨNG TÀU Xem thêm 09/10/2023 Tin Tức Địa Phương Biển Hồ Cốc: Kinh nghiệm du lịch chi tiết năm 2023 Xem thêm 09/10/2023 Tin Tức Địa Phương 1,7 triệu du khách đến vào Xuyên Mộc năm 2022 Xem thêm', 'score': 4, 'type': 'image', 'group_id': 5, 'format': 'jpg', 'width': None}]\n"
     ]
    }
   ],
   "source": [
    "await crawl(task_config=task_config,\n",
    "            schema=PageData.model_json_schema(),\n",
    "            browser_cfg=browser_cfg,\n",
    "            logfile=\"/Users/quanbm/Dev/sides/localgaid_notebooks/crawler_task/logs/logs.txt\")"
   ]
  },
  {
   "cell_type": "code",
   "execution_count": 5,
   "id": "b44826ea",
   "metadata": {},
   "outputs": [
    {
     "ename": "NameError",
     "evalue": "name 'result' is not defined",
     "output_type": "error",
     "traceback": [
      "\u001b[31m---------------------------------------------------------------------------\u001b[39m",
      "\u001b[31mNameError\u001b[39m                                 Traceback (most recent call last)",
      "\u001b[36mCell\u001b[39m\u001b[36m \u001b[39m\u001b[32mIn[5]\u001b[39m\u001b[32m, line 1\u001b[39m\n\u001b[32m----> \u001b[39m\u001b[32m1\u001b[39m \u001b[43mresult\u001b[49m.media[\u001b[33m\"\u001b[39m\u001b[33mimages\u001b[39m\u001b[33m\"\u001b[39m]\n",
      "\u001b[31mNameError\u001b[39m: name 'result' is not defined"
     ]
    }
   ],
   "source": [
    "result.media[\"images\"]"
   ]
  }
 ],
 "metadata": {
  "kernelspec": {
   "display_name": ".venv",
   "language": "python",
   "name": "python3"
  },
  "language_info": {
   "codemirror_mode": {
    "name": "ipython",
    "version": 3
   },
   "file_extension": ".py",
   "mimetype": "text/x-python",
   "name": "python",
   "nbconvert_exporter": "python",
   "pygments_lexer": "ipython3",
   "version": "3.12.10"
  }
 },
 "nbformat": 4,
 "nbformat_minor": 5
}
