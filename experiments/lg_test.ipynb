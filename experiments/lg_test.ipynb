{
 "cells": [
  {
   "cell_type": "code",
   "execution_count": null,
   "id": "cc31d9b2",
   "metadata": {},
   "outputs": [],
   "source": []
  },
  {
   "cell_type": "code",
   "execution_count": 4,
   "id": "59ece962",
   "metadata": {},
   "outputs": [],
   "source": [
    "from localgaid import get_completion"
   ]
  },
  {
   "cell_type": "code",
   "execution_count": 5,
   "id": "b33c88ef",
   "metadata": {},
   "outputs": [
    {
     "data": {
      "text/plain": [
       "'Chào mừng quý vị đến với Chợ Lớn, một trong những khu vực đặc sắc và thú vị nhất tại Thành phố Hồ Chí Minh! Nếu quý vị muốn khám phá vẻ đẹp văn hóa và lịch sử phong phú, thì Chợ Lớn chính là điểm đến lý tưởng.\\n\\nChợ Lớn, hay còn được gọi là Đê Ngạn, là nơi sinh sống của cộng đồng Hoa kiều đông đảo, nằm ven kênh Tàu Hủ. Khu vực này trải dài qua các quận 5, 6, 8, 10 và 11, mang đến cho quý vị một bức tranh đa dạng về cuộc sống và văn hóa. Trước đây, Chợ Lớn từng là một thành phố riêng biệt với Sài Gòn, và trong những năm 1930 đến 1950, hai thành phố này đã dần sát nhập lại với nhau, tạo nên một bức tranh đô thị độc đáo.\\n\\nMột trong những điểm nhấn nổi bật của Chợ Lớn chính là cảnh quan và kiến trúc đặc trưng của người Hoa. Quý vị sẽ thấy những ngôi chùa cổ kính như chùa Thiên Hậu, nơi thờ cúng và cầu nguyện của cộng đồng người Hoa, cũng như các cửa hàng, quán ăn với những món ăn đặc trưng như hủ tiếu, dim sum, và bánh bao.\\n\\nKhông chỉ là nơi hội tụ của các sắc thái văn hóa, Chợ Lớn còn được biết đến là phố người Hoa lớn nhất thế giới tính theo diện tích. Quý vị sẽ cảm nhận được không khí nhộn nhịp, sống động khi tham quan các chợ truyền thống, nơi mà người dân địa phương bày bán đủ loại hàng hóa từ thực phẩm tươi sống đến đồ thủ công mỹ nghệ.\\n\\nHãy dành thời gian để lang thang trong từng con hẻm, thưởng thức những món ăn ngon và tham gia vào các hoạt động văn hóa phong phú. Chợ Lớn không chỉ là một điểm đến du lịch mà còn là một phần không thể thiếu trong lịch sử và văn hóa của Thành phố Hồ Chí Minh.\\n\\nChúng tôi rất vui được đồng hành cùng quý vị trong chuyến tham quan này. Hy vọng rằng quý vị sẽ có những trải nghiệm đáng nhớ tại Chợ Lớn!'"
      ]
     },
     "execution_count": 5,
     "metadata": {},
     "output_type": "execute_result"
    }
   ],
   "source": [
    "prompt = \"\"\"Thông tin:\n",
    "Chợ Lớn (chữ Hán: 堤岸; âm Hán-Việt: Đê Ngạn; âm Quảng Đông: Thầy Ngòn) là một khu vực đông Hoa kiều sinh sống nằm ven kênh Tàu Hủ trải dài trên địa bàn Quận 5 và Quận 6, về phía nam tới Quận 8 và về phía bắc tới Quận 10 và Quận 11 ở Thành phố Hồ Chí Minh, Việt Nam. Khu vực này trước kia lập thành một thành phố riêng biệt với Sài Gòn, gọi là thành phố Chợ Lớn. Trong những năm 1930-1950 do quá trình đô thị hóa, Sài Gòn và Chợ Lớn dần dần sáp nhập với nhau. Khu phố này đã có Hoa kiều sinh sống từ lâu và được coi là phố người Hoa lớn nhất thế giới tính theo diện tích.\n",
    "---\n",
    "Bạn là một hướng dẫn viên du lịch địa phương.\n",
    "Hãy dựa trên hiểu biết và thông tin cung cấp về Chợ Lớn, hãy thực hiện giới thiệu một cách tự nhiên cho các du khách tham quan.\n",
    "\"\"\"\n",
    "\n",
    "results = get_completion(prompt=prompt)\n",
    "\n",
    "results.choices[0].message.content"
   ]
  },
  {
   "cell_type": "code",
   "execution_count": 3,
   "id": "5109707f",
   "metadata": {},
   "outputs": [
    {
     "data": {
      "text/html": [
       "<pre style=\"white-space:pre;overflow-x:auto;line-height:normal;font-family:Menlo,'DejaVu Sans Mono',consolas,'Courier New',monospace\">Chào các bạn, tôi xin được chào mừng các bạn đến với Chợ Lớn, một trong những khu vực độc đáo và sôi động nhất của \n",
       "Thành phố Hồ Chí Minh!                                                                                             \n",
       "\n",
       "Chợ Lớn không chỉ là một khu vực đông Hoa kiều sinh sống, mà còn là nơi lưu giữ một phần lịch sử văn hóa và di sản \n",
       "phong phú của thành phố. Nằm bên cạnh kênh Tàu Hủ, Chợ Lớn trải dài qua các quận 5, 6, 8, 10 và 11, tạo nên một bức\n",
       "tranh đa dạng về văn hóa và ẩm thực.                                                                               \n",
       "\n",
       "Trước đây, Chợ Lớn từng là một thành phố độc lập với Sài Gòn, và quá trình đô thị hóa từ những năm 1930 đến 1950 đã\n",
       "làm cho hai nơi này dần dần hòa quyện vào nhau. Chính vì vậy, các bạn sẽ cảm nhận được sự giao thoa văn hóa giữa   \n",
       "các cộng đồng khác nhau khi khám phá khu vực này.                                                                  \n",
       "\n",
       "Khi đi dạo quanh Chợ Lớn, bạn sẽ thấy những con phố nhộn nhịp với các quầy hàng bán đủ loại sản phẩm từ thực phẩm  \n",
       "tươi sống đến đồ thủ công mỹ nghệ. Đặc biệt, ẩm thực nơi đây rất phong phú, với những món ăn đặc sắc của người Hoa \n",
       "như dim sum, bánh bao, và các loại mì truyền thống. Đừng quên ghé thăm các ngôi chùa nổi tiếng như chùa Bà Thiên   \n",
       "Hậu hay chùa Ông để tìm hiểu thêm về tín ngưỡng và văn hóa của người Hoa tại đây.                                  \n",
       "\n",
       "Chợ Lớn không chỉ là một điểm đến du lịch, mà còn là nơi bạn có thể trải nghiệm cuộc sống thường nhật của người dân\n",
       "địa phương. Tôi hy vọng các bạn sẽ có những trải nghiệm tuyệt vời và đầy ý nghĩa tại đây. Nếu có bất kỳ câu hỏi    \n",
       "nào, xin đừng ngần ngại hỏi tôi nhé!                                                                               \n",
       "</pre>\n"
      ],
      "text/plain": [
       "Chào các bạn, tôi xin được chào mừng các bạn đến với Chợ Lớn, một trong những khu vực độc đáo và sôi động nhất của \n",
       "Thành phố Hồ Chí Minh!                                                                                             \n",
       "\n",
       "Chợ Lớn không chỉ là một khu vực đông Hoa kiều sinh sống, mà còn là nơi lưu giữ một phần lịch sử văn hóa và di sản \n",
       "phong phú của thành phố. Nằm bên cạnh kênh Tàu Hủ, Chợ Lớn trải dài qua các quận 5, 6, 8, 10 và 11, tạo nên một bức\n",
       "tranh đa dạng về văn hóa và ẩm thực.                                                                               \n",
       "\n",
       "Trước đây, Chợ Lớn từng là một thành phố độc lập với Sài Gòn, và quá trình đô thị hóa từ những năm 1930 đến 1950 đã\n",
       "làm cho hai nơi này dần dần hòa quyện vào nhau. Chính vì vậy, các bạn sẽ cảm nhận được sự giao thoa văn hóa giữa   \n",
       "các cộng đồng khác nhau khi khám phá khu vực này.                                                                  \n",
       "\n",
       "Khi đi dạo quanh Chợ Lớn, bạn sẽ thấy những con phố nhộn nhịp với các quầy hàng bán đủ loại sản phẩm từ thực phẩm  \n",
       "tươi sống đến đồ thủ công mỹ nghệ. Đặc biệt, ẩm thực nơi đây rất phong phú, với những món ăn đặc sắc của người Hoa \n",
       "như dim sum, bánh bao, và các loại mì truyền thống. Đừng quên ghé thăm các ngôi chùa nổi tiếng như chùa Bà Thiên   \n",
       "Hậu hay chùa Ông để tìm hiểu thêm về tín ngưỡng và văn hóa của người Hoa tại đây.                                  \n",
       "\n",
       "Chợ Lớn không chỉ là một điểm đến du lịch, mà còn là nơi bạn có thể trải nghiệm cuộc sống thường nhật của người dân\n",
       "địa phương. Tôi hy vọng các bạn sẽ có những trải nghiệm tuyệt vời và đầy ý nghĩa tại đây. Nếu có bất kỳ câu hỏi    \n",
       "nào, xin đừng ngần ngại hỏi tôi nhé!                                                                               \n"
      ]
     },
     "execution_count": 3,
     "metadata": {},
     "output_type": "execute_result"
    }
   ],
   "source": [
    "from rich.markdown import Markdown\n",
    "\n",
    "Markdown(results.choices[0].message.content)"
   ]
  }
 ],
 "metadata": {
  "kernelspec": {
   "display_name": ".venv",
   "language": "python",
   "name": "python3"
  },
  "language_info": {
   "codemirror_mode": {
    "name": "ipython",
    "version": 3
   },
   "file_extension": ".py",
   "mimetype": "text/x-python",
   "name": "python",
   "nbconvert_exporter": "python",
   "pygments_lexer": "ipython3",
   "version": "3.12.10"
  }
 },
 "nbformat": 4,
 "nbformat_minor": 5
}
