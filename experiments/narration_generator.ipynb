{
 "cells": [
  {
   "cell_type": "code",
   "execution_count": 12,
   "id": "af2787ef",
   "metadata": {},
   "outputs": [
    {
     "data": {
      "text/plain": [
       "6932"
      ]
     },
     "execution_count": 12,
     "metadata": {},
     "output_type": "execute_result"
    }
   ],
   "source": [
    "# content = open(\"bachdinh/bachdinh_input.txt\").read()\n",
    "# len(content)\n",
    "\n",
    "content = open(\"/Users/quanbm/Dev/sides/localgaid_notebooks/data/bronze/Dinh-Ông-Nam-Hải__20250531.md\").read()\n",
    "len(content)"
   ]
  },
  {
   "cell_type": "code",
   "execution_count": 13,
   "id": "993ff51e",
   "metadata": {},
   "outputs": [
    {
     "data": {
      "text/plain": [
       "'Bạn là một biên kịch chuyên viết kịch bản thuyết minh cho hệ thống tai nghe hướng dẫn tự động tại một địa điểm lịch sử, văn hóa tại Việt Nam.\\n\\nDưới đây là thông tin chi tiết về địa điểm:\\n\\n---\\n{{ content }}\\n---\\n\\nNhiệm vụ của bạn:\\n\\n- Chia nội dung thành các phần hợp lý, mỗi phần tương ứng với một điểm dừng trong hành trình tham quan.  \\n- Mỗi phần có độ dài phù hợp với 2–3 phút thuyết minh (tức khoảng 250–400 từ).\\n- Viết bằng tiếng Việt, sử dụng giọng văn ấm áp, gần gũi, rõ ràng, sinh động, phù hợp với nhiều độ tuổi.\\n- Truyền tải đúng và đầy đủ thông tin lịch sử, văn hóa được cung cấp. Có thể thêm lời giải thích hoặc kể lại dưới dạng câu chuyện nếu hợp lý.\\n\\nMỗi phần cần:\\n\\n- Bắt đầu bằng tiêu đề định dạng Markdown:  \\n  `# Phần X: [Tiêu đề phù hợp với nội dung]`  \\n  *(ví dụ: `# Phần 1: Giới thiệu tổng quan`)*  \\n- Nếu là địa điểm, có thể mở đầu bằng câu dẫn định hướng vị trí, ví dụ: “Đứng trước cổng chính…”, “Khi bạn đang ở giữa sân…”, v.v.\\n- Dựa sát vào thông tin cụ thể trong nội dung đầu vào:  \\n  - Các mốc thời gian (năm, thế kỷ...)  \\n  - Tên nhân vật, triều đại, sự kiện lịch sử  \\n  - Mô tả kiến trúc, nội thất, đồ vật trưng bày  \\n  - Các lễ hội, phong tục, hoạt động văn hóa liên quan\\n- Nếu có nhắc đến các sự kiện văn hóa hoặc lễ hội, hãy trình bày chúng dưới dạng tường thuật — không được viết như thể sự kiện đang diễn ra hay người nghe đang tham gia trực tiếp.\\n- Có thể kể thêm câu chuyện lịch sử hoặc dân gian có liên quan, nếu có thông tin.\\n- Tránh dùng từ ngữ mơ hồ, bay bổng, hoặc các cụm sáo rỗng.\\n- Tránh từ chuyên môn hoặc ký hiệu viết tắt kỹ thuật (ví dụ: viết \"mét\" thay vì \"m\", “kilogram” thay vì \"kg\").\\n- Mỗi phần nên có nội dung hoàn chỉnh, dễ hiểu, độc lập với các phần còn lại.\\n\\nYêu cầu đầu ra:\\n- Trả về danh sách các đoạn thuyết minh, mỗi đoạn bắt đầu bằng dòng tiêu đề Markdown dạng `# Phần X: ...`.\\n- Không cần thêm phần giải thích, chỉ cần phần nội dung sẵn sàng để ghi âm.\\n- Ngôn ngữ: chỉ sử dụng tiếng Việt.'"
      ]
     },
     "execution_count": 13,
     "metadata": {},
     "output_type": "execute_result"
    }
   ],
   "source": [
    "prompt_content = open(\"/Users/quanbm/Dev/sides/localgaid_notebooks/prompts/narration.jinja\", \"r\").read()\n",
    "\n",
    "prompt_content"
   ]
  },
  {
   "cell_type": "code",
   "execution_count": 14,
   "id": "ccce4037",
   "metadata": {},
   "outputs": [
    {
     "data": {
      "text/plain": [
       "'Bạn là một biên kịch chuyên viết kịch bản thuyết minh cho hệ thống tai nghe hướng dẫn tự động tại một địa điểm lịch sử, văn hóa tại Việt Nam.\\n\\nDưới đây là thông tin chi tiết về địa điểm:\\n\\n---\\nhttps://vietnamtourism.gov.vn/post/39240# Khám phá văn hóa lễ hội truyền thống Dinh Ông Nam Hải ở Bà Rịa – Vũng Tàu\\n(TITC) - Lễ hội Dinh Ông Nam Hải là lễ hội văn hóa, dân gian truyền thống được nhân dân thị trấn Phước Hải, huyện Đất Đỏ, tỉnh Bà Rịa – Vũng Tàu giữ gìn và tổ chức suốt nhiều năm qua. Theo thông lệ, Lễ hội được tổ chức trong 03 ngày, từ ngày 15-17 tháng 02 âm lịch hàng năm.\\n_Hình ảnh tại lễ hội Dinh Ông Nam Hải năm 2019. Ảnh: Sưu tầm_\\nVới nhiều tên gọi khác nhau như: Lễ cầu ngư; Lễ cúng Ông; Lễ rước cốt Ông; Lễ nghinh Ông Thủy Thần; Lễ Dinh Ông Nam Hải nhưng hầu hết các tên gọi đều gắn với tục thờ “Cá Ông” là sinh vật thiêng ở biển cả, là vị cứu tinh đối với người dân đánh cá nói riêng và người làm nghề mưu sinh trên biển nói chung”. Tục thờ “Cá Ông” đã trở thành một tín ngưỡng dân gian được truyền từ đời này sang đời khác trong vùng biển Phước Hải. Chính vì thế, Lễ hội Dinh Ông Nam Hải đã trở thành một nét văn hóa đặc trưng của người dân vùng biển và thu hút đông đảo du khách đến tham dự.\\n_Hình ảnh tại lễ hội Dinh Ông Nam Hải năm 2019. Ảnh: Sưu tầm_\\n[Bà Rịa – Vũng Tàu](https://vietnamtourism.gov.vn/tags/Ba-Ria--Vung-Tau),[Dinh Ông Nam Hải](https://vietnamtourism.gov.vn/tags/Dinh-Ong-Nam-Hai),[lễ hội truyền thống Dinh Ông Nam Hải](https://vietnamtourism.gov.vn/tags/le-hoi-truyen-thong-Dinh-Ong-Nam-Hai),\\n\\n\\nhttps://ittpa.baria-vungtau.gov.vn/article?item=d228276ba001e8f412067e8d4d22eeaf# Văn hoá lễ hội truyền thống Nghinh Ông Nam Hải thị trấn Phước Hải, huyện Đất Đỏ\\n**Lễ hội Nghinh Ông Nam Hải là lễ hội văn hóa đã được cộng đồng giữ gìn và tổ chức suốt nhiều năm qua nhằm phục vụ nhu cầu tín ngưỡng dân gian của bà con ngư dân vùng biển trong hoạt động đánh bắt hải sản hàng năm tại thị trấn Phước Hải, huyện Đất Đỏ.**\\n**CHƯƠNG TRÌNH NGHI LỄ NĂM 2022** Lễ hội Nghinh Ông sẽ diễn ra trong 03 ngày: 17, 18, 19/3/2022 (ngày 15, 16, 17/2 âm lịch) tại Dinh Ông Nam Hải.\\nLễ hội được tổ chức nhằm quảng bá hình ảnh quê hương Đất Đỏ nói chung, thị trấn Phước Hải nói riêng với những nét văn hóa đặc trưng đến du khách gần xa. Kế thừa và phát triển hoạt động Lễ hội truyền thống Lệ Xuân Quý Nghinh Ông Nam Hải, nhằm bảo tồn và phát huy các giá trị văn hóa truyền thống, qua đó giáo dục giới trẻ về truyền thống cha ông từ ngày xưa, ghi nhớ các phong tục tập quản nghề cá của ngư dân và sự tích Cá Ông tại địa phương.\\n* [Huyện Đất Đỏ: Lễ hội Nghinh Ông Nam Hải sẽ diễn ra từ 24 – 26/3/2024 (nhằm ngày...](https://ittpa.baria-vungtau.gov.vn/article?item=476fbf9ad7ffcbce28f050eb62ca1db3)\\n* [Gắn kết lễ hội Nghinh Ông - di sản văn hóa phi vật thể quốc gia của tỉnh Bà Rịa...](https://ittpa.baria-vungtau.gov.vn/article?item=a6adc7795edec1b56cdb68fd405b5ef6)\\n* [Từ ngày 29/09 đến 02/10/2023 Sẽ diễn ra Lễ hội Nghinh Ông Thắng Tam Vũng Tàu](https://ittpa.baria-vungtau.gov.vn/article?item=6f315aa7ffeabfe1e5004f8fdb50d07b)\\nCục Hải quan\\n\\n\\nhttps://baobariavungtau.com.vn/van-hoa-nghe-thuat/202503/le-hoi-nghinh-ong-nam-hai-thu-hut-hang-ngan-nguoi-tham-du-1036953/index.htmLễ hội Nghinh Ông Nam Hải thu hút hàng ngàn người tham dự\\n# Lễ hội Nghinh Ông Nam Hải thu hút hàng ngàn người tham dự\\n**_Sáng 15/3 (nhằm 16 tháng 2 năm Ất Tỵ), TT. Phước Hải, huyện Long Đất tổ chức khai mạc Lễ hội Nghinh Ông Nam Hải năm 2025,_****_thu hút hàng ngàn người dân và du khách đến tham dự._**\\nBan Tế tự Dinh Ông Nam Hải thực hiện nghi lễ Nghinh Ông Nam Hải trên biển. Trên bờ, đoàn rước với cờ lộng, ngai vàng và quân lính, chiêng trống đi thành hai hàng dọc ra biển làm lễ rước thần Nam Hải về dinh. Tại Dinh Ông Nam Hải, các nghi lễ cúng, lễ khai mạc đã diễn ra trang trọng, đậm nét văn hóa cổ truyền với các nội dung: lễ xây chầu đại bội, lễ cầu quốc thái dân an; biểu diễn chèo bả trạo. Nhiều du khách đến đây không chỉ khám phá nét văn hóa lễ hội của vùng đất này mà còn cầu phúc lành cho gia đình. Chị Hoàng Thị Thúy Liễu, đến từ Thủ Đức (TP. Hồ Chí Minh) chia sẻ, năm nào gia đình chị cũng xuống Phước Hải dịp lễ Nghinh Ông Nam Hải để cúng Ông và cầu cho gia đình một năm hanh thông, sức khỏe, bình an. Đã thành thông lệ, hàng năm vào 2 ngày 16, 17 tháng 2 âm lịch, TT. Phước Hải lại nhộn nhịp với Lễ hội Nghinh ông Nam Hải - còn gọi là Lệ Xuân Quý cầu ngư ra quân đánh bắt hải sản đầu năm. Đây là lễ hội truyền thống của bà con ngư dân Phước Hải cầu một mùa đánh bắt hải sản bội thu, nhà nhà đều có cuộc sống ấm no, hạnh phúc. Lễ hội cũng nhằm tri ân, tưởng nhớ các bậc tiền nhân đã có công mở đất, dựng làng. Ông Nguyễn Văn Lợi, Trưởng Ban tế tự Dinh Ông Nam Hải cho biết, đây cũng là dịp để nhắc nhở cho con cháu, những thế hệ kế tiếp biết đến Ông Nam Hải là vị thần bảo hộ của những người đi biển. Lễ hội vẫn mang đậm chất thờ cúng dân gian từ xưa của quý vị tiền nhân để lại. Qua đó, các thế hệ sau này tiếp tục phát huy và bảo tồn nét văn hóa đặc trưng này của ngư dân Phước Hải. Ông Phan Văn Hảo, Chủ tịch UBND TT.Phước Hải cho biết, Lễ hội Nghinh ông Nam Hải năm nay diễn ra trong bối cảnh thị trấn có những bước chuyển mới, nhập toàn bộ diện tích xã Long Mỹ vào TT. Phước Hải. Qua Lễ hội cũng chuyển tải thông điệp gửi đến bạn bè và du khách gần xa về một Phước Hải chứa đựng nhiều giá trị văn hóa đặc sắc, một vùng biển hiền hòa, thân thiện, giàu tiềm năng phát triển. | Ban Tế tự nghinh ông Nam Hải từ biển về Dinh. | Những cánh diều nhiều màu sắc trên biển trong Lễ hội Nghinh Ông Nam Hải. | Biểu diễn ghe mô hình trên biển tại lễ hội Nghinh Ông Nam Hải. | Trống khai mạc Lễ hội Nghinh Ông Nam Hải 2025.\\n\\n\\nhttps://www.huongphonghococbeachresort.com/y-nghia-le-hoi-nghinh-ong-tai-phuoc-hai-%E2%80%93-van-hoa-tam-linh-cua-nguoi-dan-bien.html# Ý Nghĩa Lễ Hội Nghinh Ông Tại Phước Hải – Văn Hóa Tâm Linh Của Người Dân Biển\\n_Lễ hội Nghinh Ông tại Phước Hải, Bà Rịa - Vũng Tàu, không chỉ là một sự kiện văn hóa đặc sắc mà còn mang trong mình giá trị tâm linh sâu sắc. Đây là dịp để người dân biển bày tỏ lòng tri ân với Cá Ông (cá voi) – vị thần bảo hộ của ngư dân trong những chuyến hải trình đầy thử thách, đồng thời thể hiện sự đoàn kết, gắn bó cộng đồng và lòng biết ơn thiên nhiên._\\nTheo tín ngưỡng dân gian, Cá Ông là loài linh thiêng, luôn giúp đỡ ngư dân vượt qua sóng dữ và những hiểm họa trên biển. Người dân Phước Hải tôn thờ Cá Ông như một vị thần hộ mệnh, gọi bằng những tên kính cẩn như \"Ông Nam Hải\" hoặc \"Ông Lớn\".\\nLễ hội Nghinh Ông ở Phước Hải được tổ chức với các nghi thức long trọng, vừa trang nghiêm vừa mang đậm màu sắc dân gian.\\nLễ hội Nghinh Ông không chỉ mang ý nghĩa tâm linh mà còn là dịp để người dân Phước Hải thể hiện sự đoàn kết. Đây là cơ hội để ngư dân chia sẻ kinh nghiệm nghề biển, cùng nhau gìn giữ và phát huy những giá trị truyền thống của cha ông.\\nLễ hội Nghinh Ông tại Phước Hải là minh chứng sống động cho tình yêu và lòng biết ơn của người dân biển đối với thiên nhiên. Nếu có dịp ghé thăm Bà Rịa - Vũng Tàu vào mùa lễ hội, hãy dành thời gian trải nghiệm để cảm nhận không khí thiêng liêng, rộn ràng và đậm đà bản sắc văn hóa này.\\n\\n\\n\\n---\\n\\nNhiệm vụ của bạn:\\n\\n- Chia nội dung thành các phần hợp lý, mỗi phần tương ứng với một điểm dừng trong hành trình tham quan.  \\n- Mỗi phần có độ dài phù hợp với 2–3 phút thuyết minh (tức khoảng 250–400 từ).\\n- Viết bằng tiếng Việt, sử dụng giọng văn ấm áp, gần gũi, rõ ràng, sinh động, phù hợp với nhiều độ tuổi.\\n- Truyền tải đúng và đầy đủ thông tin lịch sử, văn hóa được cung cấp. Có thể thêm lời giải thích hoặc kể lại dưới dạng câu chuyện nếu hợp lý.\\n\\nMỗi phần cần:\\n\\n- Bắt đầu bằng tiêu đề định dạng Markdown:  \\n  `# Phần X: [Tiêu đề phù hợp với nội dung]`  \\n  *(ví dụ: `# Phần 1: Giới thiệu tổng quan`)*  \\n- Nếu là địa điểm, có thể mở đầu bằng câu dẫn định hướng vị trí, ví dụ: “Đứng trước cổng chính…”, “Khi bạn đang ở giữa sân…”, v.v.\\n- Dựa sát vào thông tin cụ thể trong nội dung đầu vào:  \\n  - Các mốc thời gian (năm, thế kỷ...)  \\n  - Tên nhân vật, triều đại, sự kiện lịch sử  \\n  - Mô tả kiến trúc, nội thất, đồ vật trưng bày  \\n  - Các lễ hội, phong tục, hoạt động văn hóa liên quan\\n- Nếu có nhắc đến các sự kiện văn hóa hoặc lễ hội, hãy trình bày chúng dưới dạng tường thuật — không được viết như thể sự kiện đang diễn ra hay người nghe đang tham gia trực tiếp.\\n- Có thể kể thêm câu chuyện lịch sử hoặc dân gian có liên quan, nếu có thông tin.\\n- Tránh dùng từ ngữ mơ hồ, bay bổng, hoặc các cụm sáo rỗng.\\n- Tránh từ chuyên môn hoặc ký hiệu viết tắt kỹ thuật (ví dụ: viết \"mét\" thay vì \"m\", “kilogram” thay vì \"kg\").\\n- Mỗi phần nên có nội dung hoàn chỉnh, dễ hiểu, độc lập với các phần còn lại.\\n\\nYêu cầu đầu ra:\\n- Trả về danh sách các đoạn thuyết minh, mỗi đoạn bắt đầu bằng dòng tiêu đề Markdown dạng `# Phần X: ...`.\\n- Không cần thêm phần giải thích, chỉ cần phần nội dung sẵn sàng để ghi âm.\\n- Ngôn ngữ: chỉ sử dụng tiếng Việt.'"
      ]
     },
     "execution_count": 14,
     "metadata": {},
     "output_type": "execute_result"
    }
   ],
   "source": [
    "from jinja2 import Template\n",
    "\n",
    "template = Template(prompt_content)\n",
    "\n",
    "prompt = template.render(content=content)\n",
    "\n",
    "prompt"
   ]
  },
  {
   "cell_type": "code",
   "execution_count": 15,
   "id": "f750b071",
   "metadata": {},
   "outputs": [],
   "source": [
    "from localgaid import get_completion\n",
    "\n",
    "result = get_completion(messages=[{\"role\": \"user\", \"content\": prompt}])"
   ]
  },
  {
   "cell_type": "code",
   "execution_count": 16,
   "id": "b6073dd0",
   "metadata": {},
   "outputs": [
    {
     "name": "stdout",
     "output_type": "stream",
     "text": [
      "# Phần 1: Giới thiệu tổng quan về Lễ hội Dinh Ông Nam Hải\n",
      "\n",
      "Khi bạn đứng trước cổng chính của Dinh Ông Nam Hải, bạn sẽ cảm nhận được không khí rộn ràng của lễ hội truyền thống diễn ra tại thị trấn Phước Hải, huyện Đất Đỏ, tỉnh Bà Rịa – Vũng Tàu. Lễ hội Dinh Ông Nam Hải, còn được biết đến với nhiều tên gọi như Lễ cầu ngư hay Lễ nghinh Ông Thủy Thần, diễn ra từ ngày 15 đến 17 tháng 2 âm lịch hàng năm. Đây không chỉ là một sự kiện văn hóa mà còn là dịp để người dân thể hiện lòng tri ân đối với Cá Ông, loài sinh vật thiêng liêng được xem như vị cứu tinh của ngư dân.\n",
      "\n",
      "Lễ hội này không chỉ thu hút hàng ngàn người dân và du khách mà còn chứa đựng nhiều giá trị văn hóa, tín ngưỡng sâu sắc. Người dân địa phương đã gìn giữ và tổ chức lễ hội này qua nhiều thế hệ, tạo nên một nét đẹp văn hóa đặc sắc, cũng như nhắc nhở về truyền thống của cha ông trong việc đánh bắt hải sản trên biển cả.\n",
      "\n",
      "# Phần 2: Ý nghĩa tâm linh của Lễ hội Nghinh Ông\n",
      "\n",
      "Khi bạn bước vào không gian bên trong Dinh Ông, bạn sẽ cảm nhận rõ hơn về ý nghĩa tâm linh của Lễ hội Nghinh Ông Nam Hải. Đây là dịp để người dân bày tỏ lòng tri ân đối với Cá Ông, loài cá voi thiêng liêng, được coi như vị thần bảo hộ cho những người đi biển. Theo tín ngưỡng dân gian, Cá Ông luôn đồng hành và giúp đỡ ngư dân vượt qua những cơn sóng dữ và hiểm nguy trên biển. Người dân Phước Hải kính trọng Cá Ông với những tên gọi như \"Ông Nam Hải\" hay \"Ông Lớn\".\n",
      "\n",
      "Lễ hội Nghinh Ông không chỉ mang ý nghĩa tâm linh mà còn là cơ hội để cộng đồng dân cư gắn kết lại với nhau, chia sẻ kinh nghiệm và bảo tồn những giá trị văn hóa truyền thống. Các nghi thức trong lễ hội diễn ra trang nghiêm, tạo nên không khí thiêng liêng và ấm áp, khiến mọi người đều cảm nhận được tình yêu và lòng biết ơn đối với thiên nhiên.\n",
      "\n",
      "# Phần 3: Các nghi thức và hoạt động trong lễ hội\n",
      "\n",
      "Trong những ngày diễn ra lễ hội, các nghi thức được tổ chức rất trang trọng và cầu kỳ. Sáng ngày khai mạc, đoàn rước sẽ đi từ Dinh Ông ra biển, mang theo cờ lộng, ngai vàng và các nhạc cụ như chiêng, trống. Họ sẽ tiến hành lễ rước thần Nam Hải về Dinh, thể hiện sự tôn kính đối với vị thần bảo hộ của ngư dân.\n",
      "\n",
      "Ngoài các nghi thức cúng tế, lễ hội còn có nhiều hoạt động văn hóa đặc sắc như biểu diễn chèo bả trạo, các trò chơi dân gian và trình diễn ghe mô hình trên biển. Những hoạt động này không chỉ mang đến sự giải trí mà còn góp phần quảng bá hình ảnh quê hương Đất Đỏ với những nét văn hóa đặc trưng đến du khách gần xa. Hàng năm, lễ hội còn là dịp để người dân cầu mong cho một mùa đánh bắt hải sản bội thu, cuộc sống ấm no, hạnh phúc.\n",
      "\n",
      "# Phần 4: Lễ hội và sự kết nối cộng đồng\n",
      "\n",
      "Lễ hội Nghinh Ông Nam Hải không chỉ là một sự kiện văn hóa mà còn là biểu tượng của sự đoàn kết trong cộng đồng ngư dân. Người dân Phước Hải thường tập trung cùng nhau, chia sẻ kinh nghiệm nghề biển và các phong tục tập quán truyền thống. Qua lễ hội, thế hệ trẻ được giáo dục về lịch sử và văn hóa của tổ tiên, giữ gìn những giá trị văn hóa đặc sắc của ngư dân.\n",
      "\n",
      "Ngoài việc cầu phúc cho gia đình, lễ hội còn mang đến cho người tham gia một cơ hội để kết nối với nhau, xây dựng tình cảm gắn bó trong cộng đồng. Mỗi năm, khi lễ hội diễn ra, người dân từ khắp nơi lại kéo về Phước Hải, tạo nên một không khí vui tươi, phấn khởi, khiến mọi người cảm thấy như trở về với quê hương của mình.\n",
      "\n",
      "# Phần 5: Kết thúc hành trình tại Dinh Ông Nam Hải\n",
      "\n",
      "Khi rời khỏi Dinh Ông Nam Hải, bạn không chỉ mang theo những kỷ niệm đẹp về lễ hội mà còn là sự trân trọng dành cho văn hóa và tín ngưỡng của người dân nơi đây. Lễ hội Nghinh Ông Nam Hải là một minh chứng sống động cho tình yêu và lòng biết ơn của người dân biển đối với thiên nhiên, cũng như sự gắn kết giữa con người với con người.\n",
      "\n",
      "Nếu bạn có dịp ghé thăm Bà Rịa – Vũng Tàu vào mùa lễ hội, hãy dành thời gian để trải nghiệm không khí thiêng liêng, rộn ràng và đầy đặn bản sắc văn hóa này. Bạn sẽ hiểu thêm về những giá trị mà lễ hội mang lại, từ đó thêm yêu đất nước và con người Việt Nam.\n"
     ]
    }
   ],
   "source": [
    "response = result.choices[0].message.content\n",
    "print(response)"
   ]
  },
  {
   "cell_type": "code",
   "execution_count": 17,
   "id": "66c3eecd",
   "metadata": {},
   "outputs": [
    {
     "data": {
      "text/plain": [
       "3922"
      ]
     },
     "execution_count": 17,
     "metadata": {},
     "output_type": "execute_result"
    }
   ],
   "source": [
    "len(response)"
   ]
  }
 ],
 "metadata": {
  "kernelspec": {
   "display_name": ".venv",
   "language": "python",
   "name": "python3"
  },
  "language_info": {
   "codemirror_mode": {
    "name": "ipython",
    "version": 3
   },
   "file_extension": ".py",
   "mimetype": "text/x-python",
   "name": "python",
   "nbconvert_exporter": "python",
   "pygments_lexer": "ipython3",
   "version": "3.12.10"
  }
 },
 "nbformat": 4,
 "nbformat_minor": 5
}
