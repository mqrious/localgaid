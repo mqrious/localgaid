{
 "cells": [
  {
   "cell_type": "code",
   "execution_count": 19,
   "id": "4738514d",
   "metadata": {},
   "outputs": [],
   "source": [
    "import boto3\n",
    "\n",
    "s3 = boto3.client('s3')\n",
    "\n",
    "\n",
    "response = s3.list_objects(\n",
    "    Bucket='localgaid-dev',\n",
    "    Prefix='test'\n",
    ")"
   ]
  },
  {
   "cell_type": "code",
   "execution_count": 21,
   "id": "5eceae39",
   "metadata": {},
   "outputs": [
    {
     "data": {
      "text/plain": [
       "'test/object_name.type'"
      ]
     },
     "execution_count": 21,
     "metadata": {},
     "output_type": "execute_result"
    }
   ],
   "source": [
    "import os\n",
    "\n",
    "path = os.path.join(\"test\", \"object_name.type\")\n",
    "\n",
    "path"
   ]
  },
  {
   "cell_type": "code",
   "execution_count": 20,
   "id": "4bdfd487",
   "metadata": {},
   "outputs": [
    {
     "name": "stdout",
     "output_type": "stream",
     "text": [
      "test/\n",
      "test/Bạch-Dinh__20250602.md\n"
     ]
    }
   ],
   "source": [
    "for item in response[\"Contents\"]:\n",
    "    print(item[\"Key\"])"
   ]
  },
  {
   "cell_type": "code",
   "execution_count": 16,
   "id": "b7f6fa1c",
   "metadata": {},
   "outputs": [
    {
     "data": {
      "text/plain": [
       "{'ResponseMetadata': {'RequestId': 'Q914R8RAP0RPVSMG',\n",
       "  'HostId': 'RL5yhCHQGkIP/rRRNzwrw7ls7dsfI10wXlvfJM9q38+nfwWQ/tbzy9zCPjdiZ5iyt7P9eDi3EZE=',\n",
       "  'HTTPStatusCode': 200,\n",
       "  'HTTPHeaders': {'x-amz-id-2': 'RL5yhCHQGkIP/rRRNzwrw7ls7dsfI10wXlvfJM9q38+nfwWQ/tbzy9zCPjdiZ5iyt7P9eDi3EZE=',\n",
       "   'x-amz-request-id': 'Q914R8RAP0RPVSMG',\n",
       "   'date': 'Mon, 02 Jun 2025 04:15:54 GMT',\n",
       "   'x-amz-bucket-region': 'ap-southeast-2',\n",
       "   'content-type': 'application/xml',\n",
       "   'transfer-encoding': 'chunked',\n",
       "   'server': 'AmazonS3'},\n",
       "  'RetryAttempts': 1},\n",
       " 'IsTruncated': False,\n",
       " 'Marker': '',\n",
       " 'Contents': [{'Key': 'test/',\n",
       "   'LastModified': datetime.datetime(2025, 6, 2, 4, 9, 35, tzinfo=tzutc()),\n",
       "   'ETag': '\"d41d8cd98f00b204e9800998ecf8427e\"',\n",
       "   'ChecksumAlgorithm': ['CRC64NVME'],\n",
       "   'ChecksumType': 'FULL_OBJECT',\n",
       "   'Size': 0,\n",
       "   'StorageClass': 'STANDARD',\n",
       "   'Owner': {'DisplayName': 'buiminhquan7.vn',\n",
       "    'ID': '35c121b0d900116224cc9e9183fe2692e7d3190fdaa7e23b3902261be7bf0e20'}},\n",
       "  {'Key': 'test/Bạch-Dinh__20250602.md',\n",
       "   'LastModified': datetime.datetime(2025, 6, 2, 4, 10, 1, tzinfo=tzutc()),\n",
       "   'ETag': '\"6efdc46ac4c6b80b67212acf5d26f8c8\"',\n",
       "   'ChecksumAlgorithm': ['CRC64NVME'],\n",
       "   'ChecksumType': 'FULL_OBJECT',\n",
       "   'Size': 23182,\n",
       "   'StorageClass': 'STANDARD',\n",
       "   'Owner': {'DisplayName': 'buiminhquan7.vn',\n",
       "    'ID': '35c121b0d900116224cc9e9183fe2692e7d3190fdaa7e23b3902261be7bf0e20'}}],\n",
       " 'Name': 'localgaid-dev',\n",
       " 'Prefix': '',\n",
       " 'MaxKeys': 1000,\n",
       " 'EncodingType': 'url'}"
      ]
     },
     "execution_count": 16,
     "metadata": {},
     "output_type": "execute_result"
    }
   ],
   "source": [
    "response"
   ]
  }
 ],
 "metadata": {
  "kernelspec": {
   "display_name": ".venv",
   "language": "python",
   "name": "python3"
  },
  "language_info": {
   "codemirror_mode": {
    "name": "ipython",
    "version": 3
   },
   "file_extension": ".py",
   "mimetype": "text/x-python",
   "name": "python",
   "nbconvert_exporter": "python",
   "pygments_lexer": "ipython3",
   "version": "3.12.10"
  }
 },
 "nbformat": 4,
 "nbformat_minor": 5
}
