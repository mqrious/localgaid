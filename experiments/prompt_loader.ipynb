{
 "cells": [
  {
   "cell_type": "code",
   "execution_count": 9,
   "id": "1585d199",
   "metadata": {},
   "outputs": [],
   "source": [
    "template_content = open(\"/Users/quanbm/Dev/sides/localgaid_notebooks/prompts/summarization.jinja\", \"r\").read()"
   ]
  },
  {
   "cell_type": "code",
   "execution_count": null,
   "id": "573c5a17",
   "metadata": {},
   "outputs": [
    {
     "data": {
      "text/plain": [
       "'Bạn là một hướng dẫn viên du lịch địa phương, am hiểu sâu sắc về lịch sử và văn hóa của vùng đất mình đang dẫn đoàn tham quan. Bạn luôn nỗ lực truyền đạt **chính xác và khách quan** những kiến thức lịch sử, văn hóa đến với du khách, để họ không chỉ tham quan mà còn thực sự hiểu và cảm nhận được giá trị của nơi chốn.\\n\\nDưới đây là tập hợp các bài viết cung cấp thông tin về điểm đến: lịch sử, văn hóa, địa lý, ẩm thực, địa danh nổi bật, v.v.\\n\\nNhiệm vụ của bạn:\\n- Đọc và phân tích toàn bộ nội dung bên dưới (trong biến `articles`)\\n- Tổng hợp lại thành **một bài viết duy nhất**, giống như một bản thuyết minh bạn sẽ dùng để hướng dẫn đoàn khách\\n- **Không trùng lặp nội dung**, chỉ giữ lại những thông tin quan trọng, nổi bật\\n- **Bỏ qua những thông tin nếu có sự mâu thuẫn giữa các bài viết**\\n- **Giữ nguyên phong cách viết chung** của các bài gốc (giàu mô tả, gần gũi, tự nhiên nếu có)\\n- **Không thêm suy đoán**, không hư cấu, chỉ sử dụng thông tin thực sự có trong các bài viết\\n- Văn phong cần mạch lạc, dễ hiểu, phù hợp với du khách phổ thông\\n\\nDưới đây là các bài viết nguồn:\\n\\nhello world'"
      ]
     },
     "execution_count": 10,
     "metadata": {},
     "output_type": "execute_result"
    }
   ],
   "source": [
    "from jinja2 import Template\n",
    "\n",
    "template = Template(template_content)\n",
    "\n",
    "template.render(content=\"hello world\")"
   ]
  }
 ],
 "metadata": {
  "kernelspec": {
   "display_name": ".venv",
   "language": "python",
   "name": "python3"
  },
  "language_info": {
   "codemirror_mode": {
    "name": "ipython",
    "version": 3
   },
   "file_extension": ".py",
   "mimetype": "text/x-python",
   "name": "python",
   "nbconvert_exporter": "python",
   "pygments_lexer": "ipython3",
   "version": "3.12.10"
  }
 },
 "nbformat": 4,
 "nbformat_minor": 5
}
