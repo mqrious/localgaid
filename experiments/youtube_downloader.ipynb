{
 "cells": [
  {
   "cell_type": "code",
   "execution_count": 1,
   "id": "b6fb9af8",
   "metadata": {},
   "outputs": [
    {
     "name": "stdout",
     "output_type": "stream",
     "text": [
      "[youtube] Extracting URL: https://www.youtube.com/watch?v=P4ZOPZbdefM\n",
      "[youtube] P4ZOPZbdefM: Downloading webpage\n",
      "[youtube] P4ZOPZbdefM: Downloading tv client config\n",
      "[youtube] P4ZOPZbdefM: Downloading player 6ba8ddc3-main\n",
      "[youtube] P4ZOPZbdefM: Downloading tv player API JSON\n",
      "[youtube] P4ZOPZbdefM: Downloading ios player API JSON\n",
      "[youtube] P4ZOPZbdefM: Downloading m3u8 information\n",
      "[info] P4ZOPZbdefM: Downloading 1 format(s): 251\n",
      "[download] Destination: CỎ MỀM - Tấn Minh ｜ Liveshow Đỗ Bảo - Một Mình Bao La.webm\n",
      "[download] 100% of    6.21MiB in 00:00:01 at 4.57MiB/s   \n",
      "[ExtractAudio] Destination: CỎ MỀM - Tấn Minh ｜ Liveshow Đỗ Bảo - Một Mình Bao La.mp3\n",
      "Deleting original file CỎ MỀM - Tấn Minh ｜ Liveshow Đỗ Bảo - Một Mình Bao La.webm (pass -k to keep)\n"
     ]
    }
   ],
   "source": [
    "import yt_dlp\n",
    "\n",
    "ydl_opts = {\n",
    "    'format': 'bestaudio/best',\n",
    "    'extractaudio': True,  # deprecated, but still works\n",
    "    'audioformat': 'mp3',\n",
    "    'outtmpl': '%(title)s.%(ext)s',\n",
    "    'postprocessors': [{\n",
    "        'key': 'FFmpegExtractAudio',\n",
    "        'preferredcodec': 'mp3',\n",
    "        'preferredquality': '192',\n",
    "    }],\n",
    "}\n",
    "\n",
    "url = \"https://www.youtube.com/watch?v=P4ZOPZbdefM\"\n",
    "\n",
    "with yt_dlp.YoutubeDL(ydl_opts) as ydl:\n",
    "    ydl.download([url])"
   ]
  }
 ],
 "metadata": {
  "kernelspec": {
   "display_name": ".venv",
   "language": "python",
   "name": "python3"
  },
  "language_info": {
   "codemirror_mode": {
    "name": "ipython",
    "version": 3
   },
   "file_extension": ".py",
   "mimetype": "text/x-python",
   "name": "python",
   "nbconvert_exporter": "python",
   "pygments_lexer": "ipython3",
   "version": "3.12.10"
  }
 },
 "nbformat": 4,
 "nbformat_minor": 5
}
