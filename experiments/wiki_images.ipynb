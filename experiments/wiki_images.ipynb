{
 "cells": [
  {
   "cell_type": "code",
   "execution_count": 1,
   "id": "7ed1c153",
   "metadata": {},
   "outputs": [
    {
     "data": {
      "text/plain": [
       "<WikipediaPage 'Tượng Chúa Kitô Vua (Vũng Tàu)'>"
      ]
     },
     "execution_count": 1,
     "metadata": {},
     "output_type": "execute_result"
    }
   ],
   "source": [
    "import wikipedia\n",
    "wikipedia.set_lang(\"vi\")\n",
    "\n",
    "page = wikipedia.page(title=\"Tượng Chúa Kitô Vua\")\n",
    "page"
   ]
  },
  {
   "cell_type": "code",
   "execution_count": 3,
   "id": "bc27f932",
   "metadata": {},
   "outputs": [
    {
     "data": {
      "text/plain": [
       "['https://upload.wikimedia.org/wikipedia/commons/0/02/View_of_Vung_Tau_from_Vung_Tau_lighthouse_%28August_3%2C_2018%29_%2843913501292%29.jpg',\n",
       " 'https://upload.wikimedia.org/wikipedia/commons/2/25/%C4%90%C6%B0%E1%BB%9Dng_l%C3%AAn_n%C3%BAi_Ch%C3%BAa_V%C5%A9ng_T%C3%A0u.jpg',\n",
       " 'https://upload.wikimedia.org/wikipedia/commons/2/2c/M%C5%A9i_Nghinh_Phong.JPG',\n",
       " 'https://upload.wikimedia.org/wikipedia/commons/2/2d/T%C6%B0%E1%BB%A3ng_Ch%C3%BAa_V%C5%A9ng_T%C3%A0u.jpg',\n",
       " 'https://upload.wikimedia.org/wikipedia/commons/3/31/T%C6%B0%E1%BB%A3ng_ch%C3%BAa_ki-t%C3%B4_vua2.JPG',\n",
       " 'https://upload.wikimedia.org/wikipedia/commons/3/3e/Statue_of_Jesus_in_Vungtau.jpg',\n",
       " 'https://upload.wikimedia.org/wikipedia/commons/4/4a/Commons-logo.svg',\n",
       " 'https://upload.wikimedia.org/wikipedia/commons/6/62/T%C6%B0%E1%BB%A3ng_Ch%C3%BAa_Kit%C3%B4_Vua_%E1%BB%9F_V%C5%A9ng_T%C3%A0u_2016_%2802%29.jpg',\n",
       " 'https://upload.wikimedia.org/wikipedia/commons/6/63/C%E1%BA%A7u_thang_trong_l%C3%B2ng_t%C6%B0%E1%BB%A3ng_Ch%C3%BAa..JPG',\n",
       " 'https://upload.wikimedia.org/wikipedia/commons/6/69/Vung_Tau_Stairs_to_Thanh_Gioc.JPG',\n",
       " 'https://upload.wikimedia.org/wikipedia/commons/7/7e/M%E1%BA%B7t_t%C6%B0%E1%BB%A3ng_Ch%C3%BAa_Ki-t%C3%B4.JPG',\n",
       " 'https://upload.wikimedia.org/wikipedia/commons/9/90/S%C3%BAng_th%E1%BA%A7n_c%C3%B4ng.JPG',\n",
       " 'https://upload.wikimedia.org/wikipedia/commons/a/ae/T%C6%B0%E1%BB%A3ng_%C4%90%E1%BB%A9c_M%E1%BA%B9_S%E1%BA%A7u_Bi.JPG',\n",
       " 'https://upload.wikimedia.org/wikipedia/commons/c/c0/Vung_Tau_Thanh_Gioc_1.JPG',\n",
       " 'https://upload.wikimedia.org/wikipedia/commons/c/c9/Vung_Tau_Thanh_Gioc_2.JPG',\n",
       " 'https://upload.wikimedia.org/wikipedia/commons/d/d6/M%E1%BB%99t_hoa_v%C4%83n_ch%E1%BB%AF_Th%E1%BB%8D_tr%C3%AAn_m%C3%ACnh_t%C6%B0%E1%BB%A3ng..JPG',\n",
       " 'https://upload.wikimedia.org/wikipedia/commons/d/db/B%C3%AAn_trong_t%C6%B0%E1%BB%A3ng_Ch%C3%BAa_V%C5%A9ng_T%C3%A0u.jpg',\n",
       " 'https://upload.wikimedia.org/wikipedia/commons/e/e1/Vung_Tau_Thanh_Gioc_3.JPG',\n",
       " 'https://upload.wikimedia.org/wikipedia/vi/1/1d/T%C6%B0%E1%BB%A3ng_Ch%C3%BAa_Kit%C3%B4_Vua_%E1%BB%9F_V%C5%A9ng_T%C3%A0u_2016_%2801%29.jpg']"
      ]
     },
     "execution_count": 3,
     "metadata": {},
     "output_type": "execute_result"
    }
   ],
   "source": [
    "sorted(page.images)"
   ]
  }
 ],
 "metadata": {
  "kernelspec": {
   "display_name": ".venv",
   "language": "python",
   "name": "python3"
  },
  "language_info": {
   "codemirror_mode": {
    "name": "ipython",
    "version": 3
   },
   "file_extension": ".py",
   "mimetype": "text/x-python",
   "name": "python",
   "nbconvert_exporter": "python",
   "pygments_lexer": "ipython3",
   "version": "3.12.10"
  }
 },
 "nbformat": 4,
 "nbformat_minor": 5
}
