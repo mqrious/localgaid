{
 "cells": [
  {
   "cell_type": "code",
   "execution_count": 11,
   "id": "1b1c1bbe",
   "metadata": {},
   "outputs": [],
   "source": [
    "\n",
    "md_string = open(\"/Users/quanbm/Dev/sides/localgaid_notebooks/data/silver/narration__Bạch-Dinh__20250601.md\", \"r\").read()"
   ]
  },
  {
   "cell_type": "code",
   "execution_count": 12,
   "id": "468b0b8d",
   "metadata": {},
   "outputs": [
    {
     "data": {
      "text/plain": [
       "['',\n",
       " ' Phần 1: Giới thiệu tổng quan về Bạch Dinh\\n\\nKhi bạn đứng trước cổng chính của Bạch Dinh, một trong những công trình kiến trúc nổi bật tại thành phố Vũng Tàu, bạn sẽ cảm nhận được vẻ đẹp lôi cuốn của ngôi biệt thự cổ kính này. Bạch Dinh, hay còn gọi là Villa Blanche, được xây dựng vào năm 1898 và hoàn thành vào năm 1902, mang đậm dấu ấn kiến trúc châu Âu cuối thế kỷ 19. Đây từng là nơi nghỉ mát cho các Toàn quyền Đông Dương, Hoàng đế Bảo Đại và các tổng thống Việt Nam thời kỳ trước. Đứng giữa khung cảnh thiên nhiên tươi đẹp, với núi Lớn vững chãi phía sau và biển cả bao la phía trước, Bạch Dinh không chỉ là một di tích lịch sử mà còn là một biểu tượng văn hóa của Vũng Tàu.\\n\\n',\n",
       " ' Phần 2: Lịch sử hình thành và những mốc son\\n\\nBạch Dinh được thiết kế bởi kiến trúc sư nổi tiếng Gustave Eiffel, người đã vẽ nên bản thiết kế độc đáo cho công trình này. Được xây dựng dưới sự giám sát của Toàn quyền Paul Doumer, Bạch Dinh mang trong mình nhiều câu chuyện lịch sử thú vị. Năm 1907, nơi đây trở thành nơi giam lỏng vua Thành Thái trong gần 10 năm. Dân địa phương gọi Bạch Dinh bằng cái tên thân thuộc là \"Dinh ông Thượng\" để tôn kính vị vua mà họ luôn kính trọng. Sau khi trải qua nhiều thăng trầm lịch sử, Bạch Dinh được công nhận là Di tích lịch sử văn hóa quốc gia vào năm 1992, mở ra một chương mới cho việc bảo tồn và phát huy giá trị di sản văn hóa của nơi này.\\n\\n',\n",
       " ' Phần 3: Kiến trúc độc đáo của Bạch Dinh\\n\\nKhi bạn bước vào Bạch Dinh, ánh mắt sẽ ngay lập tức bị cuốn hút bởi kiến trúc Pháp cổ điển với tông màu trắng nổi bật. Bên trong, bạn sẽ thấy những bộ bàn ghế gỗ sang trọng, được điêu khắc tinh xảo, cùng với những hiện vật quý giá như bộ tam đa ngũ thái Phúc Lộc Thọ và cặp ngà voi Châu Phi. Những khung cửa sổ hình vòm không chỉ là điểm nhấn kiến trúc mà còn mang đến tầm nhìn tuyệt đẹp ra bãi Trước và bãi Dâu. Mỗi góc nhìn đều mang đến cho du khách cảm giác như đang lạc vào một câu chuyện cổ tích giữa lòng thành phố biển.\\n\\n',\n",
       " ' Phần 4: Khung cảnh thiên nhiên xung quanh Bạch Dinh\\n\\nBạch Dinh không chỉ nổi bật bởi kiến trúc mà còn được bao quanh bởi một không gian thiên nhiên tuyệt đẹp. Những hàng cây sứ rợp bóng mát, đặc biệt vào mùa nở hoa, tạo nên một khung cảnh thơ mộng. Khi đứng từ trên cao, bạn có thể ngắm nhìn toàn cảnh bãi Trước với màu xanh của biển cả hòa quyện cùng sắc vàng của cát. Không khí trong lành, tiếng sóng vỗ rì rào và gió biển nhẹ nhàng sẽ khiến bạn cảm thấy thư giãn, nhẹ nhàng như đang lạc vào một chốn bình yên giữa cuộc sống bộn bề.\\n\\n',\n",
       " ' Phần 5: Những hiện vật trưng bày tại Bạch Dinh\\n\\nTrong hành trình tham quan Bạch Dinh, bạn sẽ có cơ hội chiêm ngưỡng nhiều hiện vật quý giá được trưng bày tại đây. Những bộ gốm sứ thời Khang Hy, khẩu súng thần công cổ xưa và nhiều hiện vật khảo cổ khác đều mang trong mình những câu chuyện lịch sử phong phú. Những chi tiết trang trí tinh xảo, từ họa tiết cá chép đến đôi chim xòe cánh, đều thể hiện sự tài hoa và khéo léo của những nghệ nhân xưa. Mỗi hiện vật không chỉ là đồ vật mà còn là chứng nhân cho những thời khắc lịch sử quan trọng của dân tộc.\\n\\n',\n",
       " ' Phần 6: Kinh nghiệm tham quan Bạch Dinh\\n\\nĐể có một chuyến tham quan Bạch Dinh trọn vẹn, bạn nên đến vào khoảng thời gian từ tháng 11 đến tháng 4, khi thời tiết Vũng Tàu đẹp nhất. Khu di tích mở cửa từ 7h00 đến 17h00 hàng ngày, vì vậy hãy sắp xếp thời gian hợp lý để có thể khám phá hết vẻ đẹp nơi đây. Nếu bạn muốn tìm hiểu sâu hơn về lịch sử và kiến trúc của Bạch Dinh, có thể thuê một hướng dẫn viên tại chỗ để có những thông tin bổ ích và thú vị. Hãy nhớ mang theo máy ảnh để ghi lại những khoảnh khắc đẹp và những bức ảnh \"sống ảo\" tuyệt vời tại Bạch Dinh!']"
      ]
     },
     "execution_count": 12,
     "metadata": {},
     "output_type": "execute_result"
    }
   ],
   "source": [
    "md_string.split(\"#\")"
   ]
  }
 ],
 "metadata": {
  "kernelspec": {
   "display_name": ".venv",
   "language": "python",
   "name": "python3"
  },
  "language_info": {
   "codemirror_mode": {
    "name": "ipython",
    "version": 3
   },
   "file_extension": ".py",
   "mimetype": "text/x-python",
   "name": "python",
   "nbconvert_exporter": "python",
   "pygments_lexer": "ipython3",
   "version": "3.12.10"
  }
 },
 "nbformat": 4,
 "nbformat_minor": 5
}
